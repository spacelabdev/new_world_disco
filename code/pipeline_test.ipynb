{
 "cells": [
  {
   "cell_type": "code",
   "execution_count": 1,
   "metadata": {},
   "outputs": [],
   "source": [
    "import logging\n",
    "import io\n",
    "import os\n",
    "import csv\n",
    "import datetime\n",
    "import stopit\n",
    "import boto3\n",
    "from glob import glob\n",
    "from pathlib import Path\n",
    "\n",
    "import lightkurve as lk\n",
    "import numpy as np\n",
    "import pandas as pd\n",
    "import requests\n",
    "import math\n",
    "from astropy import units as u\n",
    "import warnings\n",
    "from astropy.table import QTable"
   ]
  },
  {
   "cell_type": "code",
   "execution_count": 2,
   "metadata": {},
   "outputs": [],
   "source": [
    "logger = logging.getLogger(__name__)\n",
    "\n",
    "logger.setLevel(logging.INFO)\n",
    "handler = logging.FileHandler('preprocess.log')\n",
    "logger.addHandler(handler)\n",
    "\n",
    "TESS_DATA_URL = 'https://exofop.ipac.caltech.edu/tess/download_toi.php?sort=toi&output=csv'\n",
    "LOCAL_DATA_FILE_NAME = '/Users/julianornelas/spacelab/new_world_disco/code/tess_data.csv'\n",
    "DEFAULT_TESS_ID = '2016376984' # a working 'v-shaped' lightcurve. Eventually we'll need to run this for all lightcurves from tess\n",
    "BJD_TO_BCTJD_DIFF = 2457000\n",
    "OUTPUT_FOLDER = 'tess_data/' # modified to save to different output folder\n",
    "subFolders = ['tic_info/', 'locGlo_flux/', 'locGlo_cent/'] #sub folders within the main output folder\n",
    "# A list of all the valid authors that are supported by\n",
    "# lightkurves searches and downloads\n",
    "valid_authors = [\"Kepler\",\"K2\", \"SPOC\",\"TESS-SPOC\",\"QLP\",\"TASOC\",\"PATHOS\",\"CDIPS\",\"K2SFF\",\"EVEREST\",\"TESScut\",\"GSFC-ELEANOR-LITE\"]\n",
    "\n",
    "# these bin numbers for TESS from Yu et al. (2019) section 2.3: https://iopscience.iop.org/article/10.3847/1538-3881/ab21d6/pdf\n",
    "global_bin_width_factor = 201\n",
    "local_bin_width_factor = 61"
   ]
  },
  {
   "cell_type": "code",
   "execution_count": 3,
   "metadata": {},
   "outputs": [],
   "source": [
    "def fetch_tess_data_df():\n",
    "    \"\"\"\n",
    "    Method to load TESS data. \n",
    "\n",
    "    If data does not exist locally, it will be downloaded from\n",
    "    TESS_DATA_URL and saved locally.  As more TESS data comes in,\n",
    "    the existing file will expand to include the newer data.\n",
    "    \"\"\"\n",
    "\n",
    "    if os.path.isfile(LOCAL_DATA_FILE_NAME):\n",
    "        return pd.read_csv(LOCAL_DATA_FILE_NAME)\n"
   ]
  },
  {
   "cell_type": "code",
   "execution_count": 4,
   "metadata": {},
   "outputs": [],
   "source": [
    "def export_lightcurve(lc, filename):\n",
    "    \"\"\"\n",
    "    Method to save lightcurve data as CSV and a NumPy array file (.npy) representing flux.\n",
    "\n",
    "    Inputs: lc = lightcurve to be saved.\n",
    "            folder = folder in which to save file.\n",
    "            filename = name of the file.\n",
    "    \"\"\"\n",
    "\n",
    "    if not os.path.isdir(f\"/home/ubuntu/spaceLab/{OUTPUT_FOLDER}\"):\n",
    "        os.mkdir(os.path.join(os.getcwd(), f\"/home/ubuntu/spaceLab/{OUTPUT_FOLDER}\"))\n",
    "\n",
    "    # Creating the subfolder, if needed\n",
    "    for subfolder in subFolders:\n",
    "        if not os.path.isdir(f\"/home/ubuntu/spaceLab/{OUTPUT_FOLDER+subfolder}\"):\n",
    "            os.makedirs(os.path.join(f\"/home/ubuntu/spaceLab/{OUTPUT_FOLDER}\", subfolder), exist_ok=True)\n",
    "\n",
    "#   lc.to_csv(f\"./data/{filename}.csv\", overwrite=True)\n",
    "    np.save(f\"/home/ubuntu/spaceLab/{OUTPUT_FOLDER+subFolders[1]+str(filename)}_flux.npy\", np.array(lc['flux']))"
   ]
  },
  {
   "cell_type": "code",
   "execution_count": 5,
   "metadata": {},
   "outputs": [],
   "source": [
    "def normalize_centroid(centroid_data):\n",
    "    # normalize by subtracting median and dividing by standard deviation\n",
    "    med = np.median(centroid_data)\n",
    "    std = np.std(centroid_data)\n",
    "    centroid_data -= med\n",
    "    if std == 0:\n",
    "        logger.info(\"Error; normalize_centroid(): std == 0\")\n",
    "        return\n",
    "    centroid_data /= std"
   ]
  },
  {
   "cell_type": "code",
   "execution_count": 6,
   "metadata": {},
   "outputs": [],
   "source": [
    "def get_mag(x, y):\n",
    "    # get magnitude as: sqrt(x^2 + y^2)\n",
    "    return math.sqrt(x*x + y*y)"
   ]
  },
  {
   "cell_type": "code",
   "execution_count": 7,
   "metadata": {},
   "outputs": [],
   "source": [
    "def preprocess_centroid(lc_local, lc_global):\n",
    "    \"\"\"\n",
    "    Method for preprocessing TESS centroid data\n",
    "\n",
    "    Input: local and global lightcurve objects (already pre-processed)\n",
    "    Output: local and global centroid position numpy arrays\n",
    "    \"\"\"\n",
    "    sap_global_condition = 'sap_x' in lc_global.columns and 'sap_y' in lc_global.columns\n",
    "    sap_local_condition = 'sap_x' in lc_local.columns and 'sap_y' in lc_local.columns\n",
    "    if sap_global_condition and sap_local_condition:\n",
    "        # remove the pix dimension\n",
    "        global_x = np.array([float(x*u.pix/u.pix) for x in lc_global['sap_x']])\n",
    "        global_y = np.array([float(y*u.pix/u.pix) for y in lc_global['sap_y']])\n",
    "        local_x = np.array([float(x*u.pix/u.pix) for x in lc_local['sap_x']])\n",
    "        local_y = np.array([float(y*u.pix/u.pix) for y in lc_local['sap_y']])\n",
    "    else:\n",
    "        # TO DO checking for centroid_row, centroid_col and performing preprocessing the data \n",
    "        '''\n",
    "        centroid_global_cond = 'centroid_row' in lc_global.columns and 'centroid_col' in lc_global.columns\n",
    "        centroid_local_cond = 'centroid_row' in lc_global.columns and 'centroid_col' in lc_global.columns\n",
    "        if centroid_global_cond and centroid_local_cond:\n",
    "            # remove the pix dimension...keeeping same name convention\n",
    "            cent_row_global = np.array([float(row/u.pix) for row in lc_global['centroid_row']])\n",
    "            cent_col_global = np.array([float(col/u.pix) for col in lc_global['centroid_col']])\n",
    "            cent_row_local = np.array([float(row/u.pix) for row in lc_local['centroid_row']])\n",
    "            cent_col_local = np.array([float(col/u.pix) for col in lc_local['centroid_col']])\n",
    "        else:\n",
    "        '''\n",
    "        logger.info(\"Error: preprocess_centroid(): No handling for centroid data not stored in sap_x, sap_y or centroid_row, centroid_col\")\n",
    "        return\n",
    "\n",
    "    # compute r = sqrt(x^2 + y^2) for each centroid location\n",
    "    local_cen = np.array([get_mag(x,y) for x, y in zip(local_x, local_y)])\n",
    "    global_cen = np.array([get_mag(x,y) for x, y in zip(global_x, global_y)])\n",
    "\n",
    "    # normalize by subtracting mean and dividing by standard deviation\n",
    "    normalize_centroid(local_cen)\n",
    "    normalize_centroid(global_cen)\n",
    "\n",
    "    return local_cen, global_cen\n"
   ]
  },
  {
   "cell_type": "code",
   "execution_count": 8,
   "metadata": {},
   "outputs": [
    {
     "name": "stdout",
     "output_type": "stream",
     "text": [
      "(6586, 62)\n"
     ]
    }
   ],
   "source": [
    "tess_data = fetch_tess_data_df()\n",
    "print(tess_data.shape)\n",
    "#20 seconds to fetch the data from the site vs 63 milliseconds to read in the file if it already exists"
   ]
  },
  {
   "cell_type": "code",
   "execution_count": 9,
   "metadata": {},
   "outputs": [
    {
     "name": "stdout",
     "output_type": "stream",
     "text": [
      "0 231663901\n"
     ]
    }
   ],
   "source": [
    "select_index = 0\n",
    "for index, row in tess_data.iterrows():\n",
    "        if index < select_index:\n",
    "                continue\n",
    "        tess_id = str(row['TIC ID'])\n",
    "        if index == select_index:\n",
    "                break\n",
    "print(index, str(tess_id))"
   ]
  },
  {
   "cell_type": "code",
   "execution_count": 10,
   "metadata": {},
   "outputs": [
    {
     "name": "stdout",
     "output_type": "stream",
     "text": [
      "Loading lightcurves\n"
     ]
    },
    {
     "data": {
      "text/html": [
       "SearchResult containing 12 data products.\n",
       "\n",
       "<table id=\"table140237685334704\">\n",
       "<thead><tr><th>#</th><th>mission</th><th>year</th><th>author</th><th>exptime</th><th>target_name</th><th>distance</th></tr></thead>\n",
       "<thead><tr><th></th><th></th><th></th><th></th><th>s</th><th></th><th>arcsec</th></tr></thead>\n",
       "<tr><td>0</td><td>TESS Sector 01</td><td>2018</td><td><a href='https://heasarc.gsfc.nasa.gov/docs/tess/pipeline.html'>SPOC</a></td><td>120</td><td>231663901</td><td>0.0</td></tr>\n",
       "<tr><td>1</td><td>TESS Sector 01</td><td>2018</td><td><a href='https://archive.stsci.edu/hlsp/tess-spoc'>TESS-SPOC</a></td><td>1800</td><td>231663901</td><td>0.0</td></tr>\n",
       "<tr><td>2</td><td>TESS Sector 01</td><td>2018</td><td><a href='https://archive.stsci.edu/hlsp/qlp'>QLP</a></td><td>1800</td><td>231663901</td><td>0.0</td></tr>\n",
       "<tr><td>3</td><td>TESS Sector 01</td><td>2018</td><td><a href='https://archive.stsci.edu/hlsp/tasoc'>TASOC</a></td><td>120</td><td>231663901</td><td>0.0</td></tr>\n",
       "<tr><td>4</td><td>TESS Sector 01</td><td>2018</td><td><a href='https://archive.stsci.edu/hlsp/gsfc-eleanor-lite'>GSFC-ELEANOR-LITE</a></td><td>1800</td><td>231663901</td><td>0.0</td></tr>\n",
       "<tr><td>5</td><td>TESS Sector 01</td><td>2018</td><td><a href='https://archive.stsci.edu/hlsp/tasoc'>TASOC</a></td><td>1800</td><td>231663901</td><td>0.0</td></tr>\n",
       "<tr><td>6</td><td>TESS Sector 01</td><td>2018</td><td><a href='https://archive.stsci.edu/hlsp/tasoc'>TASOC</a></td><td>1800</td><td>231663901</td><td>0.0</td></tr>\n",
       "<tr><td>7</td><td>TESS Sector 01</td><td>2018</td><td>TGLC</td><td>1800</td><td>231663901</td><td>0.0</td></tr>\n",
       "<tr><td>8</td><td>TESS Sector 27</td><td>2020</td><td><a href='https://heasarc.gsfc.nasa.gov/docs/tess/pipeline.html'>SPOC</a></td><td>20</td><td>231663901</td><td>0.0</td></tr>\n",
       "<tr><td>9</td><td>TESS Sector 27</td><td>2020</td><td><a href='https://heasarc.gsfc.nasa.gov/docs/tess/pipeline.html'>SPOC</a></td><td>120</td><td>231663901</td><td>0.0</td></tr>\n",
       "<tr><td>10</td><td>TESS Sector 27</td><td>2020</td><td><a href='https://archive.stsci.edu/hlsp/tess-spoc'>TESS-SPOC</a></td><td>600</td><td>231663901</td><td>0.0</td></tr>\n",
       "<tr><td>11</td><td>TESS Sector 27</td><td>2020</td><td><a href='https://archive.stsci.edu/hlsp/qlp'>QLP</a></td><td>600</td><td>231663901</td><td>0.0</td></tr>\n",
       "</table>"
      ],
      "text/plain": [
       "SearchResult containing 12 data products.\n",
       "\n",
       " #     mission     year       author      exptime target_name distance\n",
       "                                             s                 arcsec \n",
       "--- -------------- ---- ----------------- ------- ----------- --------\n",
       "  0 TESS Sector 01 2018              SPOC     120   231663901      0.0\n",
       "  1 TESS Sector 01 2018         TESS-SPOC    1800   231663901      0.0\n",
       "  2 TESS Sector 01 2018               QLP    1800   231663901      0.0\n",
       "  3 TESS Sector 01 2018             TASOC     120   231663901      0.0\n",
       "  4 TESS Sector 01 2018 GSFC-ELEANOR-LITE    1800   231663901      0.0\n",
       "  5 TESS Sector 01 2018             TASOC    1800   231663901      0.0\n",
       "  6 TESS Sector 01 2018             TASOC    1800   231663901      0.0\n",
       "  7 TESS Sector 01 2018              TGLC    1800   231663901      0.0\n",
       "  8 TESS Sector 27 2020              SPOC      20   231663901      0.0\n",
       "  9 TESS Sector 27 2020              SPOC     120   231663901      0.0\n",
       " 10 TESS Sector 27 2020         TESS-SPOC     600   231663901      0.0\n",
       " 11 TESS Sector 27 2020               QLP     600   231663901      0.0"
      ]
     },
     "execution_count": 10,
     "metadata": {},
     "output_type": "execute_result"
    }
   ],
   "source": [
    "\n",
    "# Download and stitch all lightcurve quarters together.\n",
    "\n",
    "id_string = f'TIC {tess_id}'\n",
    "\n",
    "print(\"Loading lightcurves\")\n",
    "\n",
    "q = lk.search_lightcurve(id_string)\n",
    "q\n"
   ]
  },
  {
   "cell_type": "code",
   "execution_count": 11,
   "metadata": {},
   "outputs": [
    {
     "data": {
      "text/html": [
       "&lt;MaskedColumn name=&apos;author&apos; dtype=&apos;str17&apos; length=12&gt;\n",
       "<table>\n",
       "<tr><td>SPOC</td></tr>\n",
       "<tr><td>TESS-SPOC</td></tr>\n",
       "<tr><td>QLP</td></tr>\n",
       "<tr><td>TASOC</td></tr>\n",
       "<tr><td>GSFC-ELEANOR-LITE</td></tr>\n",
       "<tr><td>TASOC</td></tr>\n",
       "<tr><td>TASOC</td></tr>\n",
       "<tr><td>TGLC</td></tr>\n",
       "<tr><td>SPOC</td></tr>\n",
       "<tr><td>SPOC</td></tr>\n",
       "<tr><td>TESS-SPOC</td></tr>\n",
       "<tr><td>QLP</td></tr>\n",
       "</table>"
      ],
      "text/plain": [
       "<MaskedColumn name='author' dtype='str17' length=12>\n",
       "             SPOC\n",
       "        TESS-SPOC\n",
       "              QLP\n",
       "            TASOC\n",
       "GSFC-ELEANOR-LITE\n",
       "            TASOC\n",
       "            TASOC\n",
       "             TGLC\n",
       "             SPOC\n",
       "             SPOC\n",
       "        TESS-SPOC\n",
       "              QLP"
      ]
     },
     "execution_count": 11,
     "metadata": {},
     "output_type": "execute_result"
    }
   ],
   "source": [
    "# Stores all of the authors from different observations\n",
    "# For a given \n",
    "authors_column = q.table['author']\n",
    "authors_column"
   ]
  },
  {
   "cell_type": "code",
   "execution_count": 12,
   "metadata": {},
   "outputs": [
    {
     "data": {
      "text/plain": [
       "[True, True, True, True, True, True, True, False, True, True, True, True]"
      ]
     },
     "execution_count": 12,
     "metadata": {},
     "output_type": "execute_result"
    }
   ],
   "source": [
    "# Creates a boolean mask for rows where all authors are valid\n",
    "valid_authors_mask = [all(author in valid_authors for author in authors.split(','))\n",
    "                for authors in authors_column]\n",
    "valid_authors_mask\n",
    "\n"
   ]
  },
  {
   "cell_type": "code",
   "execution_count": 13,
   "metadata": {},
   "outputs": [
    {
     "data": {
      "text/html": [
       "SearchResult containing 11 data products.\n",
       "\n",
       "<table id=\"table140238216052848\">\n",
       "<thead><tr><th>#</th><th>mission</th><th>year</th><th>author</th><th>exptime</th><th>target_name</th><th>distance</th></tr></thead>\n",
       "<thead><tr><th></th><th></th><th></th><th></th><th>s</th><th></th><th>arcsec</th></tr></thead>\n",
       "<tr><td>0</td><td>TESS Sector 01</td><td>2018</td><td><a href='https://heasarc.gsfc.nasa.gov/docs/tess/pipeline.html'>SPOC</a></td><td>120</td><td>231663901</td><td>0.0</td></tr>\n",
       "<tr><td>1</td><td>TESS Sector 01</td><td>2018</td><td><a href='https://archive.stsci.edu/hlsp/tess-spoc'>TESS-SPOC</a></td><td>1800</td><td>231663901</td><td>0.0</td></tr>\n",
       "<tr><td>2</td><td>TESS Sector 01</td><td>2018</td><td><a href='https://archive.stsci.edu/hlsp/qlp'>QLP</a></td><td>1800</td><td>231663901</td><td>0.0</td></tr>\n",
       "<tr><td>3</td><td>TESS Sector 01</td><td>2018</td><td><a href='https://archive.stsci.edu/hlsp/tasoc'>TASOC</a></td><td>120</td><td>231663901</td><td>0.0</td></tr>\n",
       "<tr><td>4</td><td>TESS Sector 01</td><td>2018</td><td><a href='https://archive.stsci.edu/hlsp/gsfc-eleanor-lite'>GSFC-ELEANOR-LITE</a></td><td>1800</td><td>231663901</td><td>0.0</td></tr>\n",
       "<tr><td>5</td><td>TESS Sector 01</td><td>2018</td><td><a href='https://archive.stsci.edu/hlsp/tasoc'>TASOC</a></td><td>1800</td><td>231663901</td><td>0.0</td></tr>\n",
       "<tr><td>6</td><td>TESS Sector 01</td><td>2018</td><td><a href='https://archive.stsci.edu/hlsp/tasoc'>TASOC</a></td><td>1800</td><td>231663901</td><td>0.0</td></tr>\n",
       "<tr><td>7</td><td>TESS Sector 27</td><td>2020</td><td><a href='https://heasarc.gsfc.nasa.gov/docs/tess/pipeline.html'>SPOC</a></td><td>20</td><td>231663901</td><td>0.0</td></tr>\n",
       "<tr><td>8</td><td>TESS Sector 27</td><td>2020</td><td><a href='https://heasarc.gsfc.nasa.gov/docs/tess/pipeline.html'>SPOC</a></td><td>120</td><td>231663901</td><td>0.0</td></tr>\n",
       "<tr><td>9</td><td>TESS Sector 27</td><td>2020</td><td><a href='https://archive.stsci.edu/hlsp/tess-spoc'>TESS-SPOC</a></td><td>600</td><td>231663901</td><td>0.0</td></tr>\n",
       "<tr><td>10</td><td>TESS Sector 27</td><td>2020</td><td><a href='https://archive.stsci.edu/hlsp/qlp'>QLP</a></td><td>600</td><td>231663901</td><td>0.0</td></tr>\n",
       "</table>"
      ],
      "text/plain": [
       "SearchResult containing 11 data products.\n",
       "\n",
       " #     mission     year       author      exptime target_name distance\n",
       "                                             s                 arcsec \n",
       "--- -------------- ---- ----------------- ------- ----------- --------\n",
       "  0 TESS Sector 01 2018              SPOC     120   231663901      0.0\n",
       "  1 TESS Sector 01 2018         TESS-SPOC    1800   231663901      0.0\n",
       "  2 TESS Sector 01 2018               QLP    1800   231663901      0.0\n",
       "  3 TESS Sector 01 2018             TASOC     120   231663901      0.0\n",
       "  4 TESS Sector 01 2018 GSFC-ELEANOR-LITE    1800   231663901      0.0\n",
       "  5 TESS Sector 01 2018             TASOC    1800   231663901      0.0\n",
       "  6 TESS Sector 01 2018             TASOC    1800   231663901      0.0\n",
       "  7 TESS Sector 27 2020              SPOC      20   231663901      0.0\n",
       "  8 TESS Sector 27 2020              SPOC     120   231663901      0.0\n",
       "  9 TESS Sector 27 2020         TESS-SPOC     600   231663901      0.0\n",
       " 10 TESS Sector 27 2020               QLP     600   231663901      0.0"
      ]
     },
     "execution_count": 13,
     "metadata": {},
     "output_type": "execute_result"
    }
   ],
   "source": [
    "# Select only the rows where all authors are valid\n",
    "# Allows us to remove rows that have unsupported authors\n",
    "search_result = q[valid_authors_mask]\n",
    "search_result\n",
    "\n"
   ]
  },
  {
   "cell_type": "code",
   "execution_count": 14,
   "metadata": {},
   "outputs": [
    {
     "data": {
      "text/plain": [
       "LightCurveCollection of 11 objects:\n",
       "    0: <TessLightCurve LABEL=\"TIC 231663901\" SECTOR=1 AUTHOR=SPOC FLUX_ORIGIN=pdcsap_flux>\n",
       "    1: <TessLightCurve LABEL=\"TIC 231663901\" SECTOR=1 AUTHOR=SPOC FLUX_ORIGIN=pdcsap_flux>\n",
       "    2: <TessLightCurve LABEL=\"TIC 231663901\" SECTOR=1 AUTHOR=QLP FLUX_ORIGIN=sap_flux>\n",
       "    3: <TessLightCurve LABEL=\"TIC 231663901\" SECTOR=1 AUTHOR=TASOC FLUX_ORIGIN=flux_raw>\n",
       "    4: <TessLightCurve LABEL=\"TIC 231663901\" SECTOR=1 AUTHOR=GSFC-ELEANOR-LITE FLUX_ORIGIN=corr_flux>\n",
       "    5: <TessLightCurve LABEL=\"TIC 231663901\" SECTOR=1 AUTHOR=TASOC FLUX_ORIGIN=flux_raw>\n",
       "    6: <TessLightCurve LABEL=\"TIC 231663901\" SECTOR=1 AUTHOR=TASOC FLUX_ORIGIN=flux_raw>\n",
       "    7: <TessLightCurve LABEL=\"TIC 231663901\" SECTOR=27 AUTHOR=SPOC FLUX_ORIGIN=pdcsap_flux>\n",
       "    8: <TessLightCurve LABEL=\"TIC 231663901\" SECTOR=27 AUTHOR=SPOC FLUX_ORIGIN=pdcsap_flux>\n",
       "    9: <TessLightCurve LABEL=\"TIC 231663901\" SECTOR=27 AUTHOR=SPOC FLUX_ORIGIN=pdcsap_flux>\n",
       "    10: <TessLightCurve LABEL=\"TIC 231663901\" SECTOR=27 AUTHOR=QLP FLUX_ORIGIN=sap_flux>"
      ]
     },
     "execution_count": 14,
     "metadata": {},
     "output_type": "execute_result"
    }
   ],
   "source": [
    "# Downloading the Lightkurve data\n",
    "lcs = search_result.download_all()\n",
    "lcs"
   ]
  },
  {
   "cell_type": "code",
   "execution_count": 15,
   "metadata": {},
   "outputs": [
    {
     "name": "stdout",
     "output_type": "stream",
     "text": [
      "Converting lightcurves to dataframes\n"
     ]
    }
   ],
   "source": [
    "\n",
    "list_of_lcs_dfs = [] #Initialize list to hold df's\n",
    "print(\"Converting lightcurves to dataframes\")\n",
    "for i in range(len(lcs)):\n",
    "    lcs_df = lcs[i].to_pandas() #Convert lightcurve at index i to pandas df\n",
    "    list_of_lcs_dfs.append(lcs_df) #Append df to list\n",
    "\n"
   ]
  },
  {
   "cell_type": "code",
   "execution_count": 16,
   "metadata": {},
   "outputs": [],
   "source": [
    "new_df = ''\n",
    "if len(lcs) == 1:\n",
    "    new_df = list_of_lcs_dfs[0] #If the length is 1, then use only that df\n",
    "elif len(lcs) == 2:\n",
    "    new_df = pd.concat([list_of_lcs_dfs[0], list_of_lcs_dfs[1]], axis=0, join=\"outer\") #If length is 2, concat df's together\n",
    "elif len(lcs) > 2:\n",
    "    new_df = pd.concat([list_of_lcs_dfs[0], list_of_lcs_dfs[1]], axis=0, join=\"outer\") #Initialize\n",
    "    for j in range(2, len(lcs)):\n",
    "        new_df = pd.concat([new_df, list_of_lcs_dfs[j]], axis=0, join=\"outer\") #Concat each subsequent df\n",
    "    \n",
    "new_df.sort_index(inplace=True) #Sort the time index\n",
    "new_df = new_df[['sap_bkg_err', 'sap_bkg', 'sap_flux', 'sap_x', 'sap_y', 'centroid_row', 'centroid_col']]\n",
    "\n",
    "#Note for potential optimizing:\n",
    "#Filter new_df columns to include only the following:\n",
    "#[time, flux, flux_err, cadenceno, quality, sap_bkg_err, sap_bkg, sap_flux, sap_x, sap_y, centroid_row, centroid_col]\n",
    "\n"
   ]
  },
  {
   "cell_type": "code",
   "execution_count": 17,
   "metadata": {},
   "outputs": [],
   "source": [
    "q_table = QTable.from_pandas(new_df, index=True) #Convert the dataframe into a QTable\n",
    "lc_temp = lk.LightCurve(data=q_table) #Convert the QTable into a LightCurve object\n",
    "\n",
    "###### END JULIAN'S CODE ######\n",
    "#################################\n",
    "\n"
   ]
  },
  {
   "cell_type": "code",
   "execution_count": 18,
   "metadata": {},
   "outputs": [
    {
     "name": "stderr",
     "output_type": "stream",
     "text": [
      "/Users/julianornelas/spacelab/spacelab_env/lib/python3.8/site-packages/lightkurve/collections.py:213: LightkurveWarning: The following columns will be excluded from stitching because the column types are incompatible: {'sap_bkg_err', 'sap_flux', 'sap_bkg'}\n",
      "  warnings.warn(\n"
     ]
    }
   ],
   "source": [
    "lc_raw = lcs.stitch()\n",
    "#stitch eliminates sap and centroid columns\n",
    "#print(lc_raw)\n",
    "#Try converting lc_raw and lc_temp to dfs, concatenate, convert back to lc objects, and normalize\n",
    "lc_raw_df = lc_raw.to_pandas()\n",
    "lc_temp_df = lc_temp.to_pandas()\n",
    "lc_temp_df.drop(columns=['flux', 'flux_err'], inplace=True)\n",
    "joined_df = lc_raw_df.join(lc_temp_df, how='outer')\n",
    "joined_df.sort_index(inplace=True)\n",
    "q_table_2 = QTable.from_pandas(joined_df, index=True)\n",
    "lc_concat = lk.LightCurve(data=q_table_2)"
   ]
  },
  {
   "cell_type": "code",
   "execution_count": 19,
   "metadata": {},
   "outputs": [
    {
     "name": "stdout",
     "output_type": "stream",
     "text": [
      "Extracting stellar parameters\n"
     ]
    },
    {
     "data": {
      "text/html": [
       "<div>\n",
       "<style scoped>\n",
       "    .dataframe tbody tr th:only-of-type {\n",
       "        vertical-align: middle;\n",
       "    }\n",
       "\n",
       "    .dataframe tbody tr th {\n",
       "        vertical-align: top;\n",
       "    }\n",
       "\n",
       "    .dataframe thead th {\n",
       "        text-align: right;\n",
       "    }\n",
       "</style>\n",
       "<table border=\"1\" class=\"dataframe\">\n",
       "  <thead>\n",
       "    <tr style=\"text-align: right;\">\n",
       "      <th></th>\n",
       "      <th>TIC ID</th>\n",
       "      <th>TOI</th>\n",
       "      <th>Previous CTOI</th>\n",
       "      <th>Master</th>\n",
       "      <th>SG1A</th>\n",
       "      <th>SG1B</th>\n",
       "      <th>SG2</th>\n",
       "      <th>SG3</th>\n",
       "      <th>SG4</th>\n",
       "      <th>SG5</th>\n",
       "      <th>...</th>\n",
       "      <th>Stellar Radius (R_Sun) err</th>\n",
       "      <th>Stellar Metallicity</th>\n",
       "      <th>Stellar Metallicity err</th>\n",
       "      <th>Stellar Mass (M_Sun)</th>\n",
       "      <th>Stellar Mass (M_Sun) err</th>\n",
       "      <th>Sectors</th>\n",
       "      <th>Date TOI Alerted (UTC)</th>\n",
       "      <th>Date TOI Updated (UTC)</th>\n",
       "      <th>Date Modified</th>\n",
       "      <th>Comments</th>\n",
       "    </tr>\n",
       "  </thead>\n",
       "  <tbody>\n",
       "    <tr>\n",
       "      <th>0</th>\n",
       "      <td>231663901</td>\n",
       "      <td>101.01</td>\n",
       "      <td>NaN</td>\n",
       "      <td>5</td>\n",
       "      <td>5</td>\n",
       "      <td>5</td>\n",
       "      <td>5</td>\n",
       "      <td>5</td>\n",
       "      <td>5</td>\n",
       "      <td>5</td>\n",
       "      <td>...</td>\n",
       "      <td>0.043847</td>\n",
       "      <td>NaN</td>\n",
       "      <td>NaN</td>\n",
       "      <td>1.05</td>\n",
       "      <td>0.129454</td>\n",
       "      <td>1,27</td>\n",
       "      <td>2018-09-05</td>\n",
       "      <td>2021-10-07</td>\n",
       "      <td>2022-12-14 12:09:24</td>\n",
       "      <td>WASP-46 b</td>\n",
       "    </tr>\n",
       "  </tbody>\n",
       "</table>\n",
       "<p>1 rows × 62 columns</p>\n",
       "</div>"
      ],
      "text/plain": [
       "      TIC ID     TOI Previous CTOI  Master  SG1A  SG1B  SG2  SG3  SG4  SG5  \\\n",
       "0  231663901  101.01           NaN       5     5     5    5    5    5    5   \n",
       "\n",
       "   ...  Stellar Radius (R_Sun) err  Stellar Metallicity  \\\n",
       "0  ...                    0.043847                  NaN   \n",
       "\n",
       "   Stellar Metallicity err  Stellar Mass (M_Sun)  Stellar Mass (M_Sun) err  \\\n",
       "0                      NaN                  1.05                  0.129454   \n",
       "\n",
       "   Sectors Date TOI Alerted (UTC) Date TOI Updated (UTC)        Date Modified  \\\n",
       "0     1,27             2018-09-05             2021-10-07  2022-12-14 12:09:24   \n",
       "\n",
       "    Comments  \n",
       "0  WASP-46 b  \n",
       "\n",
       "[1 rows x 62 columns]"
      ]
     },
     "execution_count": 19,
     "metadata": {},
     "output_type": "execute_result"
    }
   ],
   "source": [
    "\n",
    "print(\"Extracting stellar parameters\")\n",
    "\n",
    "threshold_crossing_events = tess_data[tess_data['TIC ID'] == int(tess_id)]\n",
    "threshold_crossing_events\n",
    "\n"
   ]
  },
  {
   "cell_type": "code",
   "execution_count": 20,
   "metadata": {},
   "outputs": [
    {
     "data": {
      "text/plain": [
       "1"
      ]
     },
     "execution_count": 20,
     "metadata": {},
     "output_type": "execute_result"
    }
   ],
   "source": [
    "tce_count = threshold_crossing_events.shape[0]\n",
    "tce_count\n",
    "\n"
   ]
  },
  {
   "cell_type": "code",
   "execution_count": 21,
   "metadata": {},
   "outputs": [
    {
     "data": {
      "text/plain": [
       "array([2.31663901e+08, 1.00000000e+00, 1.43036914e+00, 2.45903690e+06,\n",
       "       1.64387283e+00, 1.00000000e+00, 5.60000000e+03, 4.48851000e+00,\n",
       "                  nan, 1.05000000e+00, 8.90774012e-01, 1.40000000e-01])"
      ]
     },
     "execution_count": 21,
     "metadata": {},
     "output_type": "execute_result"
    }
   ],
   "source": [
    "for i in range(tce_count):\n",
    "    \n",
    "    period, duration = threshold_crossing_events['Period (days)'].iloc[i].item(),  threshold_crossing_events['Duration (hours)'].iloc[i].item()\n",
    "    t0 = threshold_crossing_events['Epoch (BJD)'].iloc[i].item() - BJD_TO_BCTJD_DIFF\n",
    "\n",
    "    # info contains: [0]tic, [1]tce, [2]period, [3]epoch, [4]duration, [5]label,\n",
    "    # [6]Teff, [7]logg, [8]metallicity, [9]mass, [10]radius, [11]density\n",
    "    info = np.full((12,), np.nan)\n",
    "\n",
    "    info[0] = tess_id\n",
    "    info[1] = i + 1\n",
    "    info[2] = period\n",
    "    info[3] = threshold_crossing_events['Epoch (BJD)'].item()\n",
    "    info[4] = duration\n",
    "\n",
    "    # if label is -1, these are unknowns for the experimental set\n",
    "    if threshold_crossing_events['TFOPWG Disposition'].item() in ['KP', 'CP']:\n",
    "        info[5] = 1\n",
    "    elif threshold_crossing_events['TFOPWG Disposition'].item() in ['FA', 'FP']:\n",
    "        info[5] = 0\n",
    "    else:\n",
    "        info[5] = -1\n",
    "\n",
    "    info[6] = threshold_crossing_events['Stellar Eff Temp (K)'].item()\n",
    "    info[7] = threshold_crossing_events['Stellar log(g) (cm/s^2)'].item()\n",
    "    info[8] = threshold_crossing_events['Stellar Metallicity'].item()\n",
    "    info[9] = threshold_crossing_events['Stellar Mass (M_Sun)'].item()\n",
    "    info[10] = threshold_crossing_events['Stellar Radius (R_Sun)'].item()\n",
    "    \n",
    "    stellar_params_link = f'https://exofop.ipac.caltech.edu/tess/download_planet.php?id={tess_id}&output=csv'\n",
    "    stellar_params_file = f'/Users/julianornelas/spacelab/new_world_disco/code/stellar_params_{tess_id}.csv'\n",
    "\n",
    "    res = requests.get(stellar_params_link)\n",
    "    stellar_params_raw = res.content\n",
    "    with open(stellar_params_file, 'wb+') as f:\n",
    "        f.write(stellar_params_raw)\n",
    "\n",
    "    densities = pd.read_csv(stellar_params_file, sep='|')['Fitted Stellar Density (g/cm3)']\n",
    "\n",
    "    if not np.all(densities.isna()):\n",
    "        info[11] = densities.dropna().iloc[0].item()\n",
    "\n",
    "    os.remove(stellar_params_file)\n",
    "info"
   ]
  },
  {
   "cell_type": "code",
   "execution_count": 22,
   "metadata": {},
   "outputs": [
    {
     "name": "stdout",
     "output_type": "stream",
     "text": [
      "Processing outliers\n"
     ]
    },
    {
     "data": {
      "text/html": [
       "<div><i>LightCurve length=170496</i>\n",
       "<table id=\"table140237944223584\" class=\"table-striped table-bordered table-condensed\">\n",
       "<thead><tr><th>time</th><th>flux</th><th>flux_err</th><th>cadenceno</th><th>quality</th><th>sap_bkg_err</th><th>sap_bkg</th><th>sap_flux</th><th>sap_x</th><th>sap_y</th><th>centroid_row</th><th>centroid_col</th></tr></thead>\n",
       "<thead><tr><th></th><th></th><th></th><th></th><th></th><th></th><th></th><th></th><th></th><th></th><th></th><th></th></tr></thead>\n",
       "<thead><tr><th>Time</th><th>float64</th><th>float64</th><th>int64</th><th>int32</th><th>float32</th><th>float32</th><th>float32</th><th>float32</th><th>float32</th><th>float64</th><th>float64</th></tr></thead>\n",
       "<tr><td>1325.2989581680333</td><td>0.9920082358629023</td><td>0.0036284190449914393</td><td>70444</td><td>1</td><td>--</td><td>--</td><td>--</td><td>--</td><td>--</td><td>1517.9420962774022</td><td>1849.9081364080841</td></tr>\n",
       "<tr><td>1325.3003470508313</td><td>0.9970574640240786</td><td>0.003633144713511413</td><td>70445</td><td>0</td><td>--</td><td>--</td><td>--</td><td>--</td><td>--</td><td>1517.872242176807</td><td>1849.8578748525895</td></tr>\n",
       "<tr><td>1325.3003471613704</td><td>1.0001670122146606</td><td>0.004209726583212614</td><td>70445</td><td>0</td><td>1.4734054</td><td>363.20078</td><td>1217.2936</td><td>--</td><td>--</td><td>1518.5597399748099</td><td>1849.624121381664</td></tr>\n",
       "<tr><td>1325.3017359331632</td><td>1.003645817947945</td><td>0.003635765020326321</td><td>70446</td><td>0</td><td>--</td><td>--</td><td>--</td><td>--</td><td>--</td><td>1517.8183558820342</td><td>1849.8394513483438</td></tr>\n",
       "<tr><td>1325.301736044114</td><td>1.0020424127578735</td><td>0.00422222726047039</td><td>70446</td><td>0</td><td>1.4699463</td><td>361.8014</td><td>1232.5476</td><td>--</td><td>--</td><td>1518.545833920395</td><td>1849.6127946413612</td></tr>\n",
       "<tr><td>1325.3031248159598</td><td>1.0016840922558774</td><td>0.00363398488711168</td><td>70447</td><td>0</td><td>--</td><td>--</td><td>--</td><td>--</td><td>--</td><td>1517.845480042903</td><td>1849.8367590213109</td></tr>\n",
       "<tr><td>1325.303124926392</td><td>1.0033267736434937</td><td>0.004230615217238665</td><td>70447</td><td>0</td><td>1.4749018</td><td>362.3199</td><td>1237.3829</td><td>--</td><td>--</td><td>1518.5462079937986</td><td>1849.6087200503089</td></tr>\n",
       "<tr><td>1325.304513698292</td><td>0.9985911233200208</td><td>0.0036311333888319874</td><td>70448</td><td>0</td><td>--</td><td>--</td><td>--</td><td>--</td><td>--</td><td>1517.827460795185</td><td>1849.8285685465912</td></tr>\n",
       "<tr><td>1325.3045138091354</td><td>0.9973147511482239</td><td>0.004228027071803808</td><td>70448</td><td>0</td><td>1.4729211</td><td>364.01382</td><td>1231.4357</td><td>--</td><td>--</td><td>1518.5426679829093</td><td>1849.6088174025367</td></tr>\n",
       "<tr><td>...</td><td>...</td><td>...</td><td>...</td><td>...</td><td>...</td><td>...</td><td>...</td><td>...</td><td>...</td><td>...</td><td>...</td></tr>\n",
       "<tr><td>2060.529164584929</td><td>1.0056053400039673</td><td>0.0023700587917119265</td><td>119961</td><td>0</td><td>3.1218872</td><td>1583.1755</td><td>1446.2494</td><td>--</td><td>--</td><td>1413.7244688678716</td><td>1238.8225116903104</td></tr>\n",
       "<tr><td>2060.529164584929</td><td>1.0056053400039673</td><td>0.0023700587917119265</td><td>119961</td><td>0</td><td>1.3933734</td><td>1586.2329</td><td>1451.3127</td><td>--</td><td>--</td><td>1413.7349366144217</td><td>1238.8249576071585</td></tr>\n",
       "<tr><td>2060.5361090019755</td><td>1.0084697008132935</td><td>0.0023723768536001444</td><td>119962</td><td>0</td><td>1.3940809</td><td>1588.7222</td><td>1454.396</td><td>--</td><td>--</td><td>1413.734957584538</td><td>1238.826623228788</td></tr>\n",
       "<tr><td>2060.5430534190223</td><td>1.004836082458496</td><td>0.002372029237449169</td><td>119963</td><td>0</td><td>3.1280768</td><td>1593.5377</td><td>1446.9526</td><td>--</td><td>--</td><td>1413.732547710282</td><td>1238.826481498319</td></tr>\n",
       "<tr><td>2060.5430534190223</td><td>1.004836082458496</td><td>0.002372029237449169</td><td>119963</td><td>0</td><td>1.3966914</td><td>1595.8784</td><td>1448.9545</td><td>--</td><td>--</td><td>1413.7338439992573</td><td>1238.8274593070112</td></tr>\n",
       "<tr><td>2060.549997836536</td><td>1.0074028968811035</td><td>0.002373419003561139</td><td>119964</td><td>0</td><td>1.3977827</td><td>1598.4143</td><td>1452.602</td><td>--</td><td>--</td><td>1413.737101805381</td><td>1238.8250828736275</td></tr>\n",
       "<tr><td>2060.549997836536</td><td>1.0074028968811035</td><td>0.002373419003561139</td><td>119964</td><td>0</td><td>3.1382515</td><td>1601.3688</td><td>1457.418</td><td>--</td><td>--</td><td>1413.7416022146585</td><td>1238.8231415096113</td></tr>\n",
       "<tr><td>2060.5569422535837</td><td>1.0093227624893188</td><td>0.0023772958666086197</td><td>119965</td><td>0</td><td>3.140668</td><td>1607.6846</td><td>1445.6736</td><td>--</td><td>--</td><td>1413.7284498653783</td><td>1238.830261610171</td></tr>\n",
       "<tr><td>2060.5569422535837</td><td>1.0093227624893188</td><td>0.0023772958666086197</td><td>119965</td><td>0</td><td>1.4002353</td><td>1604.2085</td><td>1454.0404</td><td>--</td><td>--</td><td>1413.7331771291367</td><td>1238.825812355526</td></tr>\n",
       "<tr><td>2060.577797930833</td><td>1.0215131044387817</td><td>0.0028195392806082964</td><td>119968</td><td>0</td><td>1908.14</td><td>-44878.98</td><td>1.0215143</td><td>1238.5555</td><td>1412.9924</td><td>--</td><td>--</td></tr>\n",
       "</table></div>"
      ],
      "text/plain": [
       "<LightCurve length=170496>\n",
       "       time               flux        ...    centroid_row       centroid_col   \n",
       "                                      ...                                      \n",
       "       Time             float64       ...      float64            float64      \n",
       "------------------ ------------------ ... ------------------ ------------------\n",
       "1325.2989581680333 0.9920082358629023 ... 1517.9420962774022 1849.9081364080841\n",
       "1325.3003470508313 0.9970574640240786 ...  1517.872242176807 1849.8578748525895\n",
       "1325.3003471613704 1.0001670122146606 ... 1518.5597399748099  1849.624121381664\n",
       "1325.3017359331632  1.003645817947945 ... 1517.8183558820342 1849.8394513483438\n",
       " 1325.301736044114 1.0020424127578735 ...  1518.545833920395 1849.6127946413612\n",
       "1325.3031248159598 1.0016840922558774 ...  1517.845480042903 1849.8367590213109\n",
       " 1325.303124926392 1.0033267736434937 ... 1518.5462079937986 1849.6087200503089\n",
       " 1325.304513698292 0.9985911233200208 ...  1517.827460795185 1849.8285685465912\n",
       "1325.3045138091354 0.9973147511482239 ... 1518.5426679829093 1849.6088174025367\n",
       "               ...                ... ...                ...                ...\n",
       " 2060.529164584929 1.0056053400039673 ... 1413.7244688678716 1238.8225116903104\n",
       " 2060.529164584929 1.0056053400039673 ... 1413.7349366144217 1238.8249576071585\n",
       "2060.5361090019755 1.0084697008132935 ...  1413.734957584538  1238.826623228788\n",
       "2060.5430534190223  1.004836082458496 ...  1413.732547710282  1238.826481498319\n",
       "2060.5430534190223  1.004836082458496 ... 1413.7338439992573 1238.8274593070112\n",
       " 2060.549997836536 1.0074028968811035 ...  1413.737101805381 1238.8250828736275\n",
       " 2060.549997836536 1.0074028968811035 ... 1413.7416022146585 1238.8231415096113\n",
       "2060.5569422535837 1.0093227624893188 ... 1413.7284498653783  1238.830261610171\n",
       "2060.5569422535837 1.0093227624893188 ... 1413.7331771291367  1238.825812355526\n",
       " 2060.577797930833 1.0215131044387817 ...                 --                 --"
      ]
     },
     "execution_count": 22,
     "metadata": {},
     "output_type": "execute_result"
    }
   ],
   "source": [
    "\n",
    "print(\"Processing outliers\")\n",
    "\n",
    "lc_clean = lc_concat.remove_outliers(sigma=3)\n",
    "lc_clean\n"
   ]
  },
  {
   "cell_type": "code",
   "execution_count": 23,
   "metadata": {},
   "outputs": [
    {
     "data": {
      "text/html": [
       "<div><i>FoldedLightCurve length=170496</i>\n",
       "<table id=\"table140238276278400\" class=\"table-striped table-bordered table-condensed\">\n",
       "<thead><tr><th>time</th><th>flux</th><th>flux_err</th><th>time_original</th><th>cadenceno</th><th>quality</th><th>sap_bkg_err</th><th>sap_bkg</th><th>sap_flux</th><th>sap_x</th><th>sap_y</th><th>centroid_row</th><th>centroid_col</th></tr></thead>\n",
       "<thead><tr><th></th><th></th><th></th><th></th><th></th><th></th><th></th><th></th><th></th><th></th><th></th><th></th><th></th></tr></thead>\n",
       "<thead><tr><th>TimeDelta</th><th>float64</th><th>float64</th><th>Time</th><th>int64</th><th>int32</th><th>float32</th><th>float32</th><th>float32</th><th>float32</th><th>float32</th><th>float64</th><th>float64</th></tr></thead>\n",
       "<tr><td>-0.7151776396311</td><td>0.9945590496063232</td><td>0.0028195392806082964</td><td>2037.619295500666</td><td>116662</td><td>0</td><td>266.77</td><td>-4160.75</td><td>0.99456024</td><td>1238.5465</td><td>1413.1484</td><td>--</td><td>--</td></tr>\n",
       "<tr><td>-0.7151642242994893</td><td>0.99570232629776</td><td>0.009874920360744</td><td>2043.3407854773568</td><td>3524609</td><td>0</td><td>5.3628235</td><td>827.3658</td><td>1433.7543</td><td>--</td><td>--</td><td>1413.7575666218015</td><td>1238.8245342843609</td></tr>\n",
       "<tr><td>-0.7151618096895263</td><td>1.0043126344680786</td><td>0.009651809930801392</td><td>2053.353371874345</td><td>3567863</td><td>0</td><td>5.126369</td><td>734.7216</td><td>1433.0105</td><td>--</td><td>--</td><td>1413.7244401928374</td><td>1238.8170872813007</td></tr>\n",
       "<tr><td>-0.7151412663366987</td><td>0.9889028668403625</td><td>0.009856383316218853</td><td>2041.9104392949798</td><td>3518430</td><td>0</td><td>5.3577113</td><td>820.6362</td><td>1430.3433</td><td>--</td><td>--</td><td>1413.7751246471232</td><td>1238.8193023704573</td></tr>\n",
       "<tr><td>-0.7151404105237874</td><td>1.0091885328292847</td><td>0.004300144966691732</td><td>1331.016977401927</td><td>74561</td><td>0</td><td>1.5338278</td><td>415.44968</td><td>1236.9125</td><td>--</td><td>--</td><td>1518.536952573893</td><td>1849.6176776830584</td></tr>\n",
       "<tr><td>-0.715136393722452</td><td>1.0006095110424205</td><td>0.003742436269407665</td><td>1331.0169814187284</td><td>74561</td><td>0</td><td>--</td><td>--</td><td>--</td><td>--</td><td>--</td><td>1517.8133859761408</td><td>1849.849943474713</td></tr>\n",
       "<tr><td>-0.7151265435894003</td><td>1.0018806457519531</td><td>0.004994705785065889</td><td>2047.6319305790862</td><td>590524</td><td>0</td><td>2.8947306</td><td>1327.0607</td><td>1456.2799</td><td>--</td><td>--</td><td>1413.7682305194744</td><td>1238.8243281341006</td></tr>\n",
       "<tr><td>-0.7151218376571828</td><td>0.9840744733810425</td><td>0.010701490566134453</td><td>2059.0748884077366</td><td>3592580</td><td>0</td><td>6.1813736</td><td>1199.2513</td><td>1414.0239</td><td>--</td><td>--</td><td>1413.7448262415767</td><td>1238.8358386522737</td></tr>\n",
       "<tr><td>-0.7151202767237148</td><td>0.9960549473762512</td><td>0.00966646522283554</td><td>2040.480091144253</td><td>3512251</td><td>0</td><td>5.1379404</td><td>738.1076</td><td>1435.0116</td><td>--</td><td>--</td><td>1413.774879814998</td><td>1238.8274610051008</td></tr>\n",
       "<tr><td>...</td><td>...</td><td>...</td><td>...</td><td>...</td><td>...</td><td>...</td><td>...</td><td>...</td><td>...</td><td>...</td><td>...</td><td>...</td></tr>\n",
       "<tr><td>0.7151482991037726</td><td>0.9995400809226302</td><td>0.0037619269828793414</td><td>1342.459850093933</td><td>82800</td><td>0</td><td>--</td><td>--</td><td>--</td><td>--</td><td>--</td><td>1517.7866372943438</td><td>1849.877291357737</td></tr>\n",
       "<tr><td>0.7151483567179742</td><td>0.9977030754089355</td><td>0.004292719531804323</td><td>1342.4598501515472</td><td>82800</td><td>0</td><td>1.545912</td><td>427.2454</td><td>1213.7224</td><td>--</td><td>--</td><td>1518.5240537236868</td><td>1849.6372307866598</td></tr>\n",
       "<tr><td>0.7151537740026195</td><td>0.9915851354598999</td><td>0.010508248582482338</td><td>2046.2014726159987</td><td>3536967</td><td>0</td><td>5.9626694</td><td>1098.1794</td><td>1429.7422</td><td>--</td><td>--</td><td>1413.744800383029</td><td>1238.8259037809046</td></tr>\n",
       "<tr><td>0.7151623371487779</td><td>1.0082257986068726</td><td>0.009867412969470024</td><td>2054.7836960211835</td><td>3574042</td><td>0</td><td>5.3593698</td><td>825.46893</td><td>1440.5236</td><td>--</td><td>--</td><td>1413.7539303082629</td><td>1238.8153265691037</td></tr>\n",
       "<tr><td>0.7151690606692683</td><td>0.997624397277832</td><td>0.004284244496375322</td><td>2037.6192730606267</td><td>583315</td><td>0</td><td>2.210915</td><td>667.79376</td><td>1430.0259</td><td>--</td><td>--</td><td>1413.777613087966</td><td>1238.829067019484</td></tr>\n",
       "<tr><td>0.7151690606692683</td><td>0.997624397277832</td><td>0.004284244496375322</td><td>2037.6192730606267</td><td>583315</td><td>0</td><td>0.984538</td><td>665.12726</td><td>1430.0905</td><td>--</td><td>--</td><td>1413.779562072529</td><td>1238.8307185945087</td></tr>\n",
       "<tr><td>0.7151690606692683</td><td>0.9976956248283386</td><td>0.0019339476712048054</td><td>2037.6192730606267</td><td>116662</td><td>0</td><td>2.210915</td><td>667.79376</td><td>1430.0259</td><td>--</td><td>--</td><td>1413.777613087966</td><td>1238.829067019484</td></tr>\n",
       "<tr><td>0.7151690606692683</td><td>0.9976956248283386</td><td>0.0019339476712048054</td><td>2037.6192730606267</td><td>116662</td><td>0</td><td>0.984538</td><td>665.12726</td><td>1430.0905</td><td>--</td><td>--</td><td>1413.779562072529</td><td>1238.8307185945087</td></tr>\n",
       "<tr><td>0.7151801135935858</td><td>0.9926559925079346</td><td>0.010257845744490623</td><td>2044.7711298152499</td><td>3530788</td><td>1024</td><td>5.7476325</td><td>990.3921</td><td>1428.7666</td><td>--</td><td>--</td><td>1413.7677496113424</td><td>1238.8309895587474</td></tr>\n",
       "<tr><td>0.7151820959215582</td><td>0.9984607100486755</td><td>0.004635409917682409</td><td>2057.644454060636</td><td>597733</td><td>0</td><td>2.5703793</td><td>986.56177</td><td>1427.2551</td><td>--</td><td>--</td><td>1413.7323509649912</td><td>1238.8278066215971</td></tr>\n",
       "</table></div>"
      ],
      "text/plain": [
       "<FoldedLightCurve length=170496>\n",
       "        time               flux        ...    centroid_row       centroid_col   \n",
       "                                       ...                                      \n",
       "     TimeDelta           float64       ...      float64            float64      \n",
       "------------------- ------------------ ... ------------------ ------------------\n",
       "   -0.7151776396311 0.9945590496063232 ...                 --                 --\n",
       "-0.7151642242994893   0.99570232629776 ... 1413.7575666218015 1238.8245342843609\n",
       "-0.7151618096895263 1.0043126344680786 ... 1413.7244401928374 1238.8170872813007\n",
       "-0.7151412663366987 0.9889028668403625 ... 1413.7751246471232 1238.8193023704573\n",
       "-0.7151404105237874 1.0091885328292847 ...  1518.536952573893 1849.6176776830584\n",
       " -0.715136393722452 1.0006095110424205 ... 1517.8133859761408  1849.849943474713\n",
       "-0.7151265435894003 1.0018806457519531 ... 1413.7682305194744 1238.8243281341006\n",
       "-0.7151218376571828 0.9840744733810425 ... 1413.7448262415767 1238.8358386522737\n",
       "-0.7151202767237148 0.9960549473762512 ...  1413.774879814998 1238.8274610051008\n",
       "                ...                ... ...                ...                ...\n",
       " 0.7151482991037726 0.9995400809226302 ... 1517.7866372943438  1849.877291357737\n",
       " 0.7151483567179742 0.9977030754089355 ... 1518.5240537236868 1849.6372307866598\n",
       " 0.7151537740026195 0.9915851354598999 ...  1413.744800383029 1238.8259037809046\n",
       " 0.7151623371487779 1.0082257986068726 ... 1413.7539303082629 1238.8153265691037\n",
       " 0.7151690606692683  0.997624397277832 ...  1413.777613087966  1238.829067019484\n",
       " 0.7151690606692683  0.997624397277832 ...  1413.779562072529 1238.8307185945087\n",
       " 0.7151690606692683 0.9976956248283386 ...  1413.777613087966  1238.829067019484\n",
       " 0.7151690606692683 0.9976956248283386 ...  1413.779562072529 1238.8307185945087\n",
       " 0.7151801135935858 0.9926559925079346 ... 1413.7677496113424 1238.8309895587474\n",
       " 0.7151820959215582 0.9984607100486755 ... 1413.7323509649912 1238.8278066215971"
      ]
     },
     "execution_count": 23,
     "metadata": {},
     "output_type": "execute_result"
    }
   ],
   "source": [
    "# Do the hacky masking from here: https://docs.lightkurve.org/tutorials/3-science-examples/exoplanets-machine-learning-preprocessing.html\n",
    "temp_fold = lc_clean.fold(period, epoch_time=t0)\n",
    "temp_fold\n"
   ]
  },
  {
   "cell_type": "code",
   "execution_count": 24,
   "metadata": {},
   "outputs": [
    {
     "data": {
      "text/plain": [
       "0.04788603122771668"
      ]
     },
     "execution_count": 24,
     "metadata": {},
     "output_type": "execute_result"
    }
   ],
   "source": [
    "fractional_duration = (duration / 24.0) / period\n",
    "fractional_duration\n"
   ]
  },
  {
   "cell_type": "code",
   "execution_count": 25,
   "metadata": {},
   "outputs": [
    {
     "data": {
      "text/plain": [
       "array([False, False, False, ..., False, False, False])"
      ]
     },
     "execution_count": 25,
     "metadata": {},
     "output_type": "execute_result"
    }
   ],
   "source": [
    "phase_mask = np.abs(temp_fold.phase.value) < (fractional_duration * 1.5)\n",
    "phase_mask\n"
   ]
  },
  {
   "cell_type": "code",
   "execution_count": 26,
   "metadata": {},
   "outputs": [
    {
     "data": {
      "text/plain": [
       "array([False, False, False, ..., False, False, False])"
      ]
     },
     "execution_count": 26,
     "metadata": {},
     "output_type": "execute_result"
    }
   ],
   "source": [
    "transit_mask = np.in1d(lc_clean.time.value, temp_fold.time_original.value[phase_mask])\n",
    "transit_mask"
   ]
  },
  {
   "cell_type": "code",
   "execution_count": 27,
   "metadata": {},
   "outputs": [
    {
     "name": "stdout",
     "output_type": "stream",
     "text": [
      "Flattening lightcurve\n"
     ]
    },
    {
     "data": {
      "text/html": [
       "<div><i>LightCurve length=170496</i>\n",
       "<table id=\"table140237668042784\" class=\"table-striped table-bordered table-condensed\">\n",
       "<thead><tr><th>time</th><th>flux</th><th>flux_err</th><th>cadenceno</th><th>quality</th><th>sap_bkg_err</th><th>sap_bkg</th><th>sap_flux</th><th>sap_x</th><th>sap_y</th><th>centroid_row</th><th>centroid_col</th></tr></thead>\n",
       "<thead><tr><th></th><th></th><th></th><th></th><th></th><th></th><th></th><th></th><th></th><th></th><th></th><th></th></tr></thead>\n",
       "<thead><tr><th>Time</th><th>float64</th><th>float64</th><th>int64</th><th>int32</th><th>float32</th><th>float32</th><th>float32</th><th>float32</th><th>float32</th><th>float64</th><th>float64</th></tr></thead>\n",
       "<tr><td>1325.2989581680333</td><td>1.0</td><td>0.003657650122062993</td><td>70444</td><td>1</td><td>--</td><td>--</td><td>--</td><td>--</td><td>--</td><td>1517.9420962774022</td><td>1849.9081364080841</td></tr>\n",
       "<tr><td>1325.3003470508313</td><td>0.9984430652500123</td><td>0.0036381936599870946</td><td>70445</td><td>0</td><td>--</td><td>--</td><td>--</td><td>--</td><td>--</td><td>1517.872242176807</td><td>1849.8578748525895</td></tr>\n",
       "<tr><td>1325.3003471613704</td><td>1.0015569347499877</td><td>0.0042155768000005246</td><td>70445</td><td>0</td><td>1.4734054</td><td>363.20078</td><td>1217.2936</td><td>--</td><td>--</td><td>1518.5597399748099</td><td>1849.624121381664</td></tr>\n",
       "<tr><td>1325.3017359331632</td><td>1.000799428926951</td><td>0.0036254538114798276</td><td>70446</td><td>0</td><td>--</td><td>--</td><td>--</td><td>--</td><td>--</td><td>1517.8183558820342</td><td>1849.8394513483438</td></tr>\n",
       "<tr><td>1325.301736044114</td><td>0.9992005710730489</td><td>0.004210252815797352</td><td>70446</td><td>0</td><td>1.4699463</td><td>361.8014</td><td>1232.5476</td><td>--</td><td>--</td><td>1518.545833920395</td><td>1849.6127946413612</td></tr>\n",
       "<tr><td>1325.3031248159598</td><td>0.9991807119773989</td><td>0.003624902935856772</td><td>70447</td><td>0</td><td>--</td><td>--</td><td>--</td><td>--</td><td>--</td><td>1517.845480042903</td><td>1849.8367590213109</td></tr>\n",
       "<tr><td>1325.303124926392</td><td>1.000819288022601</td><td>0.004220042184500554</td><td>70447</td><td>0</td><td>1.4749018</td><td>362.3199</td><td>1237.3829</td><td>--</td><td>--</td><td>1518.5462079937986</td><td>1849.6087200503089</td></tr>\n",
       "<tr><td>1325.304513698292</td><td>1.0006394951726554</td><td>0.0036385817941433788</td><td>70448</td><td>0</td><td>--</td><td>--</td><td>--</td><td>--</td><td>--</td><td>1517.827460795185</td><td>1849.8285685465912</td></tr>\n",
       "<tr><td>1325.3045138091354</td><td>0.9993605048273447</td><td>0.004236699862342208</td><td>70448</td><td>0</td><td>1.4729211</td><td>364.01382</td><td>1231.4357</td><td>--</td><td>--</td><td>1518.5426679829093</td><td>1849.6088174025367</td></tr>\n",
       "<tr><td>...</td><td>...</td><td>...</td><td>...</td><td>...</td><td>...</td><td>...</td><td>...</td><td>...</td><td>...</td><td>...</td><td>...</td></tr>\n",
       "<tr><td>2060.529164584929</td><td>1.0</td><td>0.0023568478581294885</td><td>119961</td><td>0</td><td>3.1218872</td><td>1583.1755</td><td>1446.2494</td><td>--</td><td>--</td><td>1413.7244688678716</td><td>1238.8225116903104</td></tr>\n",
       "<tr><td>2060.529164584929</td><td>1.0</td><td>0.0023568478581294885</td><td>119961</td><td>0</td><td>1.3933734</td><td>1586.2329</td><td>1451.3127</td><td>--</td><td>--</td><td>1413.7349366144217</td><td>1238.8249576071585</td></tr>\n",
       "<tr><td>2060.5361090019755</td><td>1.0</td><td>0.0023524522865554713</td><td>119962</td><td>0</td><td>1.3940809</td><td>1588.7222</td><td>1454.396</td><td>--</td><td>--</td><td>1413.734957584538</td><td>1238.826623228788</td></tr>\n",
       "<tr><td>2060.5430534190223</td><td>1.0</td><td>0.0023606131177590787</td><td>119963</td><td>0</td><td>3.1280768</td><td>1593.5377</td><td>1446.9526</td><td>--</td><td>--</td><td>1413.732547710282</td><td>1238.826481498319</td></tr>\n",
       "<tr><td>2060.5430534190223</td><td>1.0</td><td>0.0023606131177590787</td><td>119963</td><td>0</td><td>1.3966914</td><td>1595.8784</td><td>1448.9545</td><td>--</td><td>--</td><td>1413.7338439992573</td><td>1238.8274593070112</td></tr>\n",
       "<tr><td>2060.549997836536</td><td>1.0</td><td>0.002355977941803811</td><td>119964</td><td>0</td><td>1.3977827</td><td>1598.4143</td><td>1452.602</td><td>--</td><td>--</td><td>1413.737101805381</td><td>1238.8250828736275</td></tr>\n",
       "<tr><td>2060.549997836536</td><td>1.0</td><td>0.002355977941803811</td><td>119964</td><td>0</td><td>3.1382515</td><td>1601.3688</td><td>1457.418</td><td>--</td><td>--</td><td>1413.7416022146585</td><td>1238.8231415096113</td></tr>\n",
       "<tr><td>2060.5569422535837</td><td>1.0</td><td>0.0023553376134562085</td><td>119965</td><td>0</td><td>3.140668</td><td>1607.6846</td><td>1445.6736</td><td>--</td><td>--</td><td>1413.7284498653783</td><td>1238.830261610171</td></tr>\n",
       "<tr><td>2060.5569422535837</td><td>1.0</td><td>0.0023553376134562085</td><td>119965</td><td>0</td><td>1.4002353</td><td>1604.2085</td><td>1454.0404</td><td>--</td><td>--</td><td>1413.7331771291367</td><td>1238.825812355526</td></tr>\n",
       "<tr><td>2060.577797930833</td><td>1.0</td><td>0.0027601596772048737</td><td>119968</td><td>0</td><td>1908.14</td><td>-44878.98</td><td>1.0215143</td><td>1238.5555</td><td>1412.9924</td><td>--</td><td>--</td></tr>\n",
       "</table></div>"
      ],
      "text/plain": [
       "<LightCurve length=170496>\n",
       "       time               flux        ...    centroid_row       centroid_col   \n",
       "                                      ...                                      \n",
       "       Time             float64       ...      float64            float64      \n",
       "------------------ ------------------ ... ------------------ ------------------\n",
       "1325.2989581680333                1.0 ... 1517.9420962774022 1849.9081364080841\n",
       "1325.3003470508313 0.9984430652500123 ...  1517.872242176807 1849.8578748525895\n",
       "1325.3003471613704 1.0015569347499877 ... 1518.5597399748099  1849.624121381664\n",
       "1325.3017359331632  1.000799428926951 ... 1517.8183558820342 1849.8394513483438\n",
       " 1325.301736044114 0.9992005710730489 ...  1518.545833920395 1849.6127946413612\n",
       "1325.3031248159598 0.9991807119773989 ...  1517.845480042903 1849.8367590213109\n",
       " 1325.303124926392  1.000819288022601 ... 1518.5462079937986 1849.6087200503089\n",
       " 1325.304513698292 1.0006394951726554 ...  1517.827460795185 1849.8285685465912\n",
       "1325.3045138091354 0.9993605048273447 ... 1518.5426679829093 1849.6088174025367\n",
       "               ...                ... ...                ...                ...\n",
       " 2060.529164584929                1.0 ... 1413.7244688678716 1238.8225116903104\n",
       " 2060.529164584929                1.0 ... 1413.7349366144217 1238.8249576071585\n",
       "2060.5361090019755                1.0 ...  1413.734957584538  1238.826623228788\n",
       "2060.5430534190223                1.0 ...  1413.732547710282  1238.826481498319\n",
       "2060.5430534190223                1.0 ... 1413.7338439992573 1238.8274593070112\n",
       " 2060.549997836536                1.0 ...  1413.737101805381 1238.8250828736275\n",
       " 2060.549997836536                1.0 ... 1413.7416022146585 1238.8231415096113\n",
       "2060.5569422535837                1.0 ... 1413.7284498653783  1238.830261610171\n",
       "2060.5569422535837                1.0 ... 1413.7331771291367  1238.825812355526\n",
       " 2060.577797930833                1.0 ...                 --                 --"
      ]
     },
     "execution_count": 27,
     "metadata": {},
     "output_type": "execute_result"
    }
   ],
   "source": [
    "\n",
    "print(\"Flattening lightcurve\")\n",
    "\n",
    "lc_flat = lc_clean.flatten(mask=transit_mask)\n",
    "lc_flat\n"
   ]
  },
  {
   "cell_type": "code",
   "execution_count": 28,
   "metadata": {},
   "outputs": [
    {
     "data": {
      "text/html": [
       "<div><i>FoldedLightCurve length=170496</i>\n",
       "<table id=\"table140238216054144\" class=\"table-striped table-bordered table-condensed\">\n",
       "<thead><tr><th>time</th><th>flux</th><th>flux_err</th><th>time_original</th><th>cadenceno</th><th>quality</th><th>sap_bkg_err</th><th>sap_bkg</th><th>sap_flux</th><th>sap_x</th><th>sap_y</th><th>centroid_row</th><th>centroid_col</th></tr></thead>\n",
       "<thead><tr><th></th><th></th><th></th><th></th><th></th><th></th><th></th><th></th><th></th><th></th><th></th><th></th><th></th></tr></thead>\n",
       "<thead><tr><th>TimeDelta</th><th>float64</th><th>float64</th><th>Time</th><th>int64</th><th>int32</th><th>float32</th><th>float32</th><th>float32</th><th>float32</th><th>float32</th><th>float64</th><th>float64</th></tr></thead>\n",
       "<tr><td>-0.7151776396311</td><td>0.9951949382972965</td><td>0.0028213420022697236</td><td>2037.619295500666</td><td>116662</td><td>0</td><td>266.77</td><td>-4160.75</td><td>0.99456024</td><td>1238.5465</td><td>1413.1484</td><td>--</td><td>--</td></tr>\n",
       "<tr><td>-0.7151642242994893</td><td>0.9961256423910052</td><td>0.009879118616184217</td><td>2043.3407854773568</td><td>3524609</td><td>0</td><td>5.3628235</td><td>827.3658</td><td>1433.7543</td><td>--</td><td>--</td><td>1413.7575666218015</td><td>1238.8245342843609</td></tr>\n",
       "<tr><td>-0.7151618096895263</td><td>1.0047974379569462</td><td>0.009656469068770733</td><td>2053.353371874345</td><td>3567863</td><td>0</td><td>5.126369</td><td>734.7216</td><td>1433.0105</td><td>--</td><td>--</td><td>1413.7244401928374</td><td>1238.8170872813007</td></tr>\n",
       "<tr><td>-0.7151412663366987</td><td>0.9904579506074024</td><td>0.009871882817950248</td><td>2041.9104392949798</td><td>3518430</td><td>0</td><td>5.3577113</td><td>820.6362</td><td>1430.3433</td><td>--</td><td>--</td><td>1413.7751246471232</td><td>1238.8193023704573</td></tr>\n",
       "<tr><td>-0.7151404105237874</td><td>1.0042685989336209</td><td>0.004279181164300337</td><td>1331.016977401927</td><td>74561</td><td>0</td><td>1.5338278</td><td>415.44968</td><td>1236.9125</td><td>--</td><td>--</td><td>1518.536952573893</td><td>1849.6176776830584</td></tr>\n",
       "<tr><td>-0.715136393722452</td><td>0.9957314010663789</td><td>0.0037241913741722817</td><td>1331.0169814187284</td><td>74561</td><td>0</td><td>--</td><td>--</td><td>--</td><td>--</td><td>--</td><td>1517.8133859761408</td><td>1849.849943474713</td></tr>\n",
       "<tr><td>-0.7151265435894003</td><td>1.00316655262277</td><td>0.005001116455352773</td><td>2047.6319305790862</td><td>590524</td><td>0</td><td>2.8947306</td><td>1327.0607</td><td>1456.2799</td><td>--</td><td>--</td><td>1413.7682305194744</td><td>1238.8243281341006</td></tr>\n",
       "<tr><td>-0.7151218376571828</td><td>0.9853170811576479</td><td>0.01071500352247917</td><td>2059.0748884077366</td><td>3592580</td><td>0</td><td>6.1813736</td><td>1199.2513</td><td>1414.0239</td><td>--</td><td>--</td><td>1413.7448262415767</td><td>1238.8358386522737</td></tr>\n",
       "<tr><td>-0.7151202767237148</td><td>0.9942079925239955</td><td>0.009648540985930232</td><td>2040.480091144253</td><td>3512251</td><td>0</td><td>5.1379404</td><td>738.1076</td><td>1435.0116</td><td>--</td><td>--</td><td>1413.774879814998</td><td>1238.8274610051008</td></tr>\n",
       "<tr><td>...</td><td>...</td><td>...</td><td>...</td><td>...</td><td>...</td><td>...</td><td>...</td><td>...</td><td>...</td><td>...</td><td>...</td><td>...</td></tr>\n",
       "<tr><td>0.7151482991037726</td><td>1.0009197705887094</td><td>0.0037671196628747566</td><td>1342.459850093933</td><td>82800</td><td>0</td><td>--</td><td>--</td><td>--</td><td>--</td><td>--</td><td>1517.7866372943438</td><td>1849.877291357737</td></tr>\n",
       "<tr><td>0.7151483567179742</td><td>0.9990802294112907</td><td>0.004298644877761375</td><td>1342.4598501515472</td><td>82800</td><td>0</td><td>1.545912</td><td>427.2454</td><td>1213.7224</td><td>--</td><td>--</td><td>1518.5240537236868</td><td>1849.6372307866598</td></tr>\n",
       "<tr><td>0.7151537740026195</td><td>0.9918942747289187</td><td>0.010511524662537682</td><td>2046.2014726159987</td><td>3536967</td><td>0</td><td>5.9626694</td><td>1098.1794</td><td>1429.7422</td><td>--</td><td>--</td><td>1413.744800383029</td><td>1238.8259037809046</td></tr>\n",
       "<tr><td>0.7151623371487779</td><td>1.005933528623353</td><td>0.009844978734404663</td><td>2054.7836960211835</td><td>3574042</td><td>0</td><td>5.3593698</td><td>825.46893</td><td>1440.5236</td><td>--</td><td>--</td><td>1413.7539303082629</td><td>1238.8153265691037</td></tr>\n",
       "<tr><td>0.7151690606692683</td><td>0.9991121276885839</td><td>0.004290633474874391</td><td>2037.6192730606267</td><td>583315</td><td>0</td><td>2.210915</td><td>667.79376</td><td>1430.0259</td><td>--</td><td>--</td><td>1413.777613087966</td><td>1238.829067019484</td></tr>\n",
       "<tr><td>0.7151690606692683</td><td>0.9991121276885839</td><td>0.004290633474874391</td><td>2037.6192730606267</td><td>583315</td><td>0</td><td>0.984538</td><td>665.12726</td><td>1430.0905</td><td>--</td><td>--</td><td>1413.779562072529</td><td>1238.8307185945087</td></tr>\n",
       "<tr><td>0.7151690606692683</td><td>0.9991834614588194</td><td>0.0019368317153110894</td><td>2037.6192730606267</td><td>116662</td><td>0</td><td>2.210915</td><td>667.79376</td><td>1430.0259</td><td>--</td><td>--</td><td>1413.777613087966</td><td>1238.829067019484</td></tr>\n",
       "<tr><td>0.7151690606692683</td><td>0.9991834614588194</td><td>0.0019368317153110894</td><td>2037.6192730606267</td><td>116662</td><td>0</td><td>0.984538</td><td>665.12726</td><td>1430.0905</td><td>--</td><td>--</td><td>1413.779562072529</td><td>1238.8307185945087</td></tr>\n",
       "<tr><td>0.7151801135935858</td><td>0.9950341610199872</td><td>0.010282421111924216</td><td>2044.7711298152499</td><td>3530788</td><td>1024</td><td>5.7476325</td><td>990.3921</td><td>1428.7666</td><td>--</td><td>--</td><td>1413.7677496113424</td><td>1238.8309895587474</td></tr>\n",
       "<tr><td>0.7151820959215582</td><td>0.9991173975747915</td><td>0.00463845862640048</td><td>2057.644454060636</td><td>597733</td><td>0</td><td>2.5703793</td><td>986.56177</td><td>1427.2551</td><td>--</td><td>--</td><td>1413.7323509649912</td><td>1238.8278066215971</td></tr>\n",
       "</table></div>"
      ],
      "text/plain": [
       "<FoldedLightCurve length=170496>\n",
       "        time               flux        ...    centroid_row       centroid_col   \n",
       "                                       ...                                      \n",
       "     TimeDelta           float64       ...      float64            float64      \n",
       "------------------- ------------------ ... ------------------ ------------------\n",
       "   -0.7151776396311 0.9951949382972965 ...                 --                 --\n",
       "-0.7151642242994893 0.9961256423910052 ... 1413.7575666218015 1238.8245342843609\n",
       "-0.7151618096895263 1.0047974379569462 ... 1413.7244401928374 1238.8170872813007\n",
       "-0.7151412663366987 0.9904579506074024 ... 1413.7751246471232 1238.8193023704573\n",
       "-0.7151404105237874 1.0042685989336209 ...  1518.536952573893 1849.6176776830584\n",
       " -0.715136393722452 0.9957314010663789 ... 1517.8133859761408  1849.849943474713\n",
       "-0.7151265435894003   1.00316655262277 ... 1413.7682305194744 1238.8243281341006\n",
       "-0.7151218376571828 0.9853170811576479 ... 1413.7448262415767 1238.8358386522737\n",
       "-0.7151202767237148 0.9942079925239955 ...  1413.774879814998 1238.8274610051008\n",
       "                ...                ... ...                ...                ...\n",
       " 0.7151482991037726 1.0009197705887094 ... 1517.7866372943438  1849.877291357737\n",
       " 0.7151483567179742 0.9990802294112907 ... 1518.5240537236868 1849.6372307866598\n",
       " 0.7151537740026195 0.9918942747289187 ...  1413.744800383029 1238.8259037809046\n",
       " 0.7151623371487779  1.005933528623353 ... 1413.7539303082629 1238.8153265691037\n",
       " 0.7151690606692683 0.9991121276885839 ...  1413.777613087966  1238.829067019484\n",
       " 0.7151690606692683 0.9991121276885839 ...  1413.779562072529 1238.8307185945087\n",
       " 0.7151690606692683 0.9991834614588194 ...  1413.777613087966  1238.829067019484\n",
       " 0.7151690606692683 0.9991834614588194 ...  1413.779562072529 1238.8307185945087\n",
       " 0.7151801135935858 0.9950341610199872 ... 1413.7677496113424 1238.8309895587474\n",
       " 0.7151820959215582 0.9991173975747915 ... 1413.7323509649912 1238.8278066215971"
      ]
     },
     "execution_count": 28,
     "metadata": {},
     "output_type": "execute_result"
    }
   ],
   "source": [
    "lc_fold = lc_flat.fold(period, epoch_time=t0)\n",
    "lc_fold"
   ]
  },
  {
   "cell_type": "code",
   "execution_count": 29,
   "metadata": {},
   "outputs": [
    {
     "name": "stdout",
     "output_type": "stream",
     "text": [
      "Creating global representation\n",
      "1.43036914033977\n",
      "201\n"
     ]
    },
    {
     "data": {
      "text/html": [
       "<div><i>FoldedLightCurve length=201</i>\n",
       "<table id=\"table140237943796688\" class=\"table-striped table-bordered table-condensed\">\n",
       "<thead><tr><th>time</th><th>flux</th><th>flux_err</th><th>time_bin_start</th><th>time_bin_size</th><th>cadenceno</th><th>quality</th><th>sap_bkg_err</th><th>sap_bkg</th><th>sap_flux</th><th>sap_x</th><th>sap_y</th><th>centroid_row</th><th>centroid_col</th></tr></thead>\n",
       "<thead><tr><th></th><th></th><th></th><th></th><th>d</th><th></th><th></th><th></th><th></th><th></th><th></th><th></th><th></th><th></th></tr></thead>\n",
       "<thead><tr><th>TimeDelta</th><th>float64</th><th>float64</th><th>TimeDelta</th><th>float64</th><th>int64</th><th>int32</th><th>float32</th><th>float32</th><th>float32</th><th>float32</th><th>float32</th><th>float64</th><th>float64</th></tr></thead>\n",
       "<tr><td>-0.7116195074412001</td><td>1.0001734936882478</td><td>0.0002741582491221615</td><td>-0.7151776396311</td><td>0.007116264379799851</td><td>2037834</td><td>11</td><td>16.403736</td><td>733.5432</td><td>1356.2579</td><td>1432.8849</td><td>1446.4686</td><td>1433.4469567813699</td><td>1404.7861340654729</td></tr>\n",
       "<tr><td>-0.7045032430614002</td><td>1.0000819399870358</td><td>0.0002742846817696551</td><td>-0.7080613752513001</td><td>0.007116264379799851</td><td>2050698</td><td>11</td><td>15.5146675</td><td>742.8562</td><td>1358.7572</td><td>1413.0526</td><td>1443.0642</td><td>1433.204007858749</td><td>1402.726119656331</td></tr>\n",
       "<tr><td>-0.6973869786816004</td><td>1.0000385220594237</td><td>0.0002706237339286997</td><td>-0.7009451108715004</td><td>0.007116264379799851</td><td>2022060</td><td>10</td><td>15.418104</td><td>744.2184</td><td>1358.925</td><td>1413.0521</td><td>1443.0651</td><td>1434.7536399482854</td><td>1403.1923438657925</td></tr>\n",
       "<tr><td>-0.6902707143018005</td><td>1.000240023692335</td><td>0.0002692355054932945</td><td>-0.6938288464917004</td><td>0.007116264379799851</td><td>2012545</td><td>15</td><td>16.254627</td><td>752.12085</td><td>1357.541</td><td>1432.8848</td><td>1446.4679</td><td>1435.5465970561177</td><td>1407.6332603320732</td></tr>\n",
       "<tr><td>-0.6831544499220006</td><td>0.9998189360953226</td><td>0.00026836316922304376</td><td>-0.6867125821119006</td><td>0.007116264379799851</td><td>2012064</td><td>21</td><td>14.856899</td><td>814.2632</td><td>1356.3212</td><td>1460.6455</td><td>1451.2404</td><td>1430.8816022822775</td><td>1404.8611170563809</td></tr>\n",
       "<tr><td>-0.6760381855422009</td><td>1.0000221036269152</td><td>0.0002800914222989603</td><td>-0.6795963177321007</td><td>0.007116264379799851</td><td>2086588</td><td>19</td><td>15.069643</td><td>747.04736</td><td>1362.8954</td><td>1399.276</td><td>1440.6963</td><td>1435.5552294897527</td><td>1400.8714164399444</td></tr>\n",
       "<tr><td>-0.6689219211624009</td><td>1.0001994948205934</td><td>0.00027819609941804924</td><td>-0.6724800533523009</td><td>0.007116264379799851</td><td>2079149</td><td>14</td><td>15.8393955</td><td>763.88654</td><td>1358.5402</td><td>1413.0514</td><td>1443.065</td><td>1434.7024391629686</td><td>1404.113743549568</td></tr>\n",
       "<tr><td>-0.6618056567826012</td><td>0.9998592315740938</td><td>0.0002699170812642491</td><td>-0.665363788972501</td><td>0.007116264379799851</td><td>2018138</td><td>16</td><td>16.218403</td><td>679.0539</td><td>1357.8325</td><td>1432.8827</td><td>1446.4657</td><td>1433.2910596507168</td><td>1402.8182494636314</td></tr>\n",
       "<tr><td>-0.6546893924028012</td><td>1.0001908852850974</td><td>0.00027295438532818955</td><td>-0.6582475245927012</td><td>0.007116264379799851</td><td>2039174</td><td>14</td><td>16.183176</td><td>748.33636</td><td>1361.8842</td><td>1421.7781</td><td>1444.5602</td><td>1434.88025595431</td><td>1404.2138004972528</td></tr>\n",
       "<tr><td>...</td><td>...</td><td>...</td><td>...</td><td>...</td><td>...</td><td>...</td><td>...</td><td>...</td><td>...</td><td>...</td><td>...</td><td>...</td><td>...</td></tr>\n",
       "<tr><td>0.6475869891005754</td><td>1.0003019610689952</td><td>0.00027687756291228186</td><td>0.6440288569106756</td><td>0.007116264379799851</td><td>2061663</td><td>13</td><td>16.699331</td><td>738.8273</td><td>1357.5934</td><td>1442.1365</td><td>1448.0565</td><td>1433.299646952558</td><td>1404.565033834443</td></tr>\n",
       "<tr><td>0.6547032534803754</td><td>0.9998463404279578</td><td>0.00027697090333317874</td><td>0.6511451212904755</td><td>0.007116264379799851</td><td>2070971</td><td>15</td><td>16.604206</td><td>675.951</td><td>1359.5897</td><td>1413.0537</td><td>1443.0597</td><td>1433.3269481281025</td><td>1395.963126815772</td></tr>\n",
       "<tr><td>0.6618195178601753</td><td>0.999842867844008</td><td>0.0002751392233990429</td><td>0.6582613856702755</td><td>0.007116264379799851</td><td>2060219</td><td>8</td><td>15.214177</td><td>747.9441</td><td>1362.4626</td><td>1421.7773</td><td>1444.5613</td><td>1436.9761915080692</td><td>1400.0906489697252</td></tr>\n",
       "<tr><td>0.6689357822399753</td><td>0.9999449779828148</td><td>0.0002711781455665508</td><td>0.6653776500500754</td><td>0.007116264379799851</td><td>2045950</td><td>11</td><td>15.697232</td><td>741.6986</td><td>1359.3912</td><td>1442.136</td><td>1448.0569</td><td>1434.728300503083</td><td>1402.9899292207947</td></tr>\n",
       "<tr><td>0.6760520466197752</td><td>1.0002400139686989</td><td>0.0002776364750157018</td><td>0.6724939144298754</td><td>0.007116264379799851</td><td>2081198</td><td>19</td><td>16.825333</td><td>745.3345</td><td>1362.9463</td><td>1421.7787</td><td>1444.5599</td><td>1435.2287870314885</td><td>1398.657202510487</td></tr>\n",
       "<tr><td>0.6831683109995752</td><td>0.9997565253818904</td><td>0.0002792621265815941</td><td>0.6796101788096753</td><td>0.007116264379799851</td><td>2080350</td><td>25</td><td>16.907784</td><td>673.7655</td><td>1359.63</td><td>1413.0526</td><td>1443.0604</td><td>1435.4469907009664</td><td>1400.2971887601968</td></tr>\n",
       "<tr><td>0.6902845753793752</td><td>1.0001847475451253</td><td>0.00027644290210724785</td><td>0.6867264431894753</td><td>0.007116264379799851</td><td>2079839</td><td>21</td><td>14.276373</td><td>814.41675</td><td>1362.9862</td><td>1452.3162</td><td>1449.81</td><td>1433.859290069692</td><td>1398.817771478836</td></tr>\n",
       "<tr><td>0.6974008397591751</td><td>1.0001192717006075</td><td>0.000278406426433566</td><td>0.6938427075692752</td><td>0.007116264379799851</td><td>2069314</td><td>19</td><td>15.634704</td><td>740.4898</td><td>1363.4523</td><td>1421.7789</td><td>1444.5624</td><td>1436.828027677988</td><td>1399.3635374483924</td></tr>\n",
       "<tr><td>0.7045171041389751</td><td>1.0000211622210324</td><td>0.000276707720924452</td><td>0.7009589719490752</td><td>0.007116264379799851</td><td>2069027</td><td>14</td><td>16.223316</td><td>750.80475</td><td>1362.173</td><td>1421.7778</td><td>1444.5603</td><td>1431.8095672432466</td><td>1395.3982788957583</td></tr>\n",
       "<tr><td>0.711633368518775</td><td>0.9998157680909853</td><td>0.00027596786302674464</td><td>0.7080752363288751</td><td>0.007116264379799851</td><td>2058664</td><td>10</td><td>15.801273</td><td>745.0099</td><td>1361.2183</td><td>1421.7767</td><td>1444.5613</td><td>1433.5670337524894</td><td>1397.3087712204942</td></tr>\n",
       "</table></div>"
      ],
      "text/plain": [
       "<FoldedLightCurve length=201>\n",
       "        time               flux        ...    centroid_row       centroid_col   \n",
       "                                       ...                                      \n",
       "     TimeDelta           float64       ...      float64            float64      \n",
       "------------------- ------------------ ... ------------------ ------------------\n",
       "-0.7116195074412001 1.0001734936882478 ... 1433.4469567813699 1404.7861340654729\n",
       "-0.7045032430614002 1.0000819399870358 ...  1433.204007858749  1402.726119656331\n",
       "-0.6973869786816004 1.0000385220594237 ... 1434.7536399482854 1403.1923438657925\n",
       "-0.6902707143018005  1.000240023692335 ... 1435.5465970561177 1407.6332603320732\n",
       "-0.6831544499220006 0.9998189360953226 ... 1430.8816022822775 1404.8611170563809\n",
       "-0.6760381855422009 1.0000221036269152 ... 1435.5552294897527 1400.8714164399444\n",
       "-0.6689219211624009 1.0001994948205934 ... 1434.7024391629686  1404.113743549568\n",
       "-0.6618056567826012 0.9998592315740938 ... 1433.2910596507168 1402.8182494636314\n",
       "-0.6546893924028012 1.0001908852850974 ...   1434.88025595431 1404.2138004972528\n",
       "                ...                ... ...                ...                ...\n",
       " 0.6475869891005754 1.0003019610689952 ...  1433.299646952558  1404.565033834443\n",
       " 0.6547032534803754 0.9998463404279578 ... 1433.3269481281025  1395.963126815772\n",
       " 0.6618195178601753  0.999842867844008 ... 1436.9761915080692 1400.0906489697252\n",
       " 0.6689357822399753 0.9999449779828148 ...  1434.728300503083 1402.9899292207947\n",
       " 0.6760520466197752 1.0002400139686989 ... 1435.2287870314885  1398.657202510487\n",
       " 0.6831683109995752 0.9997565253818904 ... 1435.4469907009664 1400.2971887601968\n",
       " 0.6902845753793752 1.0001847475451253 ...  1433.859290069692  1398.817771478836\n",
       " 0.6974008397591751 1.0001192717006075 ...  1436.828027677988 1399.3635374483924\n",
       " 0.7045171041389751 1.0000211622210324 ... 1431.8095672432466 1395.3982788957583\n",
       "  0.711633368518775 0.9998157680909853 ... 1433.5670337524894 1397.3087712204942"
      ]
     },
     "execution_count": 29,
     "metadata": {},
     "output_type": "execute_result"
    }
   ],
   "source": [
    "\n",
    "print(\"Creating global representation\")\n",
    "print(period)\n",
    "print(global_bin_width_factor)\n",
    "global_bin_width_factor = 201.00\n",
    "  \n",
    "lc_global = lc_fold.bin(time_bin_size=period/global_bin_width_factor) #.normalize() #- 1\n",
    "lc_global\n"
   ]
  },
  {
   "cell_type": "code",
   "execution_count": 30,
   "metadata": {},
   "outputs": [
    {
     "data": {
      "text/html": [
       "<div><i>FoldedLightCurve length=201</i>\n",
       "<table id=\"table140236863516432\" class=\"table-striped table-bordered table-condensed\">\n",
       "<thead><tr><th>time</th><th>flux</th><th>flux_err</th><th>time_bin_start</th><th>time_bin_size</th><th>cadenceno</th><th>quality</th><th>sap_bkg_err</th><th>sap_bkg</th><th>sap_flux</th><th>sap_x</th><th>sap_y</th><th>centroid_row</th><th>centroid_col</th></tr></thead>\n",
       "<thead><tr><th></th><th></th><th></th><th></th><th>d</th><th></th><th></th><th></th><th></th><th></th><th></th><th></th><th></th><th></th></tr></thead>\n",
       "<thead><tr><th>TimeDelta</th><th>float64</th><th>float64</th><th>TimeDelta</th><th>float64</th><th>int64</th><th>int32</th><th>float32</th><th>float32</th><th>float32</th><th>float32</th><th>float32</th><th>float64</th><th>float64</th></tr></thead>\n",
       "<tr><td>-0.7116195074412001</td><td>3.0314425356636003</td><td>0.0005568401205235428</td><td>-0.7151776396311</td><td>0.007116264379799851</td><td>2037834</td><td>11</td><td>16.403736</td><td>733.5432</td><td>1356.2579</td><td>1432.8849</td><td>1446.4686</td><td>1433.4469567813699</td><td>1404.7861340654729</td></tr>\n",
       "<tr><td>-0.7045032430614002</td><td>3.031256581842475</td><td>0.0005570969166290544</td><td>-0.7080613752513001</td><td>0.007116264379799851</td><td>2050698</td><td>11</td><td>15.5146675</td><td>742.8562</td><td>1358.7572</td><td>1413.0526</td><td>1443.0642</td><td>1433.204007858749</td><td>1402.726119656331</td></tr>\n",
       "<tr><td>-0.6973869786816004</td><td>3.03116839611718</td><td>0.0005496612015137319</td><td>-0.7009451108715004</td><td>0.007116264379799851</td><td>2022060</td><td>10</td><td>15.418104</td><td>744.2184</td><td>1358.925</td><td>1413.0521</td><td>1443.0651</td><td>1434.7536399482854</td><td>1403.1923438657925</td></tr>\n",
       "<tr><td>-0.6902707143018005</td><td>3.03157766409987</td><td>0.0005468415844066035</td><td>-0.6938288464917004</td><td>0.007116264379799851</td><td>2012545</td><td>15</td><td>16.254627</td><td>752.12085</td><td>1357.541</td><td>1432.8848</td><td>1446.4679</td><td>1435.5465970561177</td><td>1407.6332603320732</td></tr>\n",
       "<tr><td>-0.6831544499220006</td><td>3.030722397227463</td><td>0.000545069790796822</td><td>-0.6867125821119006</td><td>0.007116264379799851</td><td>2012064</td><td>21</td><td>14.856899</td><td>814.2632</td><td>1356.3212</td><td>1460.6455</td><td>1451.2404</td><td>1430.8816022822775</td><td>1404.8611170563809</td></tr>\n",
       "<tr><td>-0.6760381855422009</td><td>3.0311350488005626</td><td>0.0005688909301469423</td><td>-0.6795963177321007</td><td>0.007116264379799851</td><td>2086588</td><td>19</td><td>15.069643</td><td>747.04736</td><td>1362.8954</td><td>1399.276</td><td>1440.6963</td><td>1435.5552294897527</td><td>1400.8714164399444</td></tr>\n",
       "<tr><td>-0.6689219211624009</td><td>3.0314953463075094</td><td>0.0005650413585042255</td><td>-0.6724800533523009</td><td>0.007116264379799851</td><td>2079149</td><td>14</td><td>15.8393955</td><td>763.88654</td><td>1358.5402</td><td>1413.0514</td><td>1443.065</td><td>1434.7024391629686</td><td>1404.113743549568</td></tr>\n",
       "<tr><td>-0.6618056567826012</td><td>3.03080424097766</td><td>0.0005482259262444271</td><td>-0.665363788972501</td><td>0.007116264379799851</td><td>2018138</td><td>16</td><td>16.218403</td><td>679.0539</td><td>1357.8325</td><td>1432.8827</td><td>1446.4657</td><td>1433.2910596507168</td><td>1402.8182494636314</td></tr>\n",
       "<tr><td>-0.6546893924028012</td><td>3.03147785956473</td><td>0.0005543949646244381</td><td>-0.6582475245927012</td><td>0.007116264379799851</td><td>2039174</td><td>14</td><td>16.183176</td><td>748.33636</td><td>1361.8842</td><td>1421.7781</td><td>1444.5602</td><td>1434.88025595431</td><td>1404.2138004972528</td></tr>\n",
       "<tr><td>...</td><td>...</td><td>...</td><td>...</td><td>...</td><td>...</td><td>...</td><td>...</td><td>...</td><td>...</td><td>...</td><td>...</td><td>...</td><td>...</td></tr>\n",
       "<tr><td>0.6475869891005754</td><td>3.0317034644957905</td><td>0.0005623632919892215</td><td>0.6440288569106756</td><td>0.007116264379799851</td><td>2061663</td><td>13</td><td>16.699331</td><td>738.8273</td><td>1357.5934</td><td>1442.1365</td><td>1448.0565</td><td>1433.299646952558</td><td>1404.565033834443</td></tr>\n",
       "<tr><td>0.6547032534803754</td><td>3.0307780578976646</td><td>0.0005625528747991073</td><td>0.6511451212904755</td><td>0.007116264379799851</td><td>2070971</td><td>15</td><td>16.604206</td><td>675.951</td><td>1359.5897</td><td>1413.0537</td><td>1443.0597</td><td>1433.3269481281025</td><td>1395.963126815772</td></tr>\n",
       "<tr><td>0.6618195178601753</td><td>3.030771004766594</td><td>0.0005588325677189789</td><td>0.6582613856702755</td><td>0.007116264379799851</td><td>2060219</td><td>8</td><td>15.214177</td><td>747.9441</td><td>1362.4626</td><td>1421.7773</td><td>1444.5613</td><td>1436.9761915080692</td><td>1400.0906489697252</td></tr>\n",
       "<tr><td>0.6689357822399753</td><td>3.030978399664183</td><td>0.0005507872615328237</td><td>0.6653776500500754</td><td>0.007116264379799851</td><td>2045950</td><td>11</td><td>15.697232</td><td>741.6986</td><td>1359.3912</td><td>1442.136</td><td>1448.0569</td><td>1434.728300503083</td><td>1402.9899292207947</td></tr>\n",
       "<tr><td>0.6760520466197752</td><td>3.0315776443502886</td><td>0.0005639047108904883</td><td>0.6724939144298754</td><td>0.007116264379799851</td><td>2081198</td><td>19</td><td>16.825333</td><td>745.3345</td><td>1362.9463</td><td>1421.7787</td><td>1444.5599</td><td>1435.2287870314885</td><td>1398.657202510487</td></tr>\n",
       "<tr><td>0.6831683109995752</td><td>3.0305956354418853</td><td>0.0005672065557803622</td><td>0.6796101788096753</td><td>0.007116264379799851</td><td>2080350</td><td>25</td><td>16.907784</td><td>673.7655</td><td>1359.63</td><td>1413.0526</td><td>1443.0604</td><td>1435.4469907009664</td><td>1400.2971887601968</td></tr>\n",
       "<tr><td>0.6902845753793752</td><td>3.0314653932615028</td><td>0.0005614804567076388</td><td>0.6867264431894753</td><td>0.007116264379799851</td><td>2079839</td><td>21</td><td>14.276373</td><td>814.41675</td><td>1362.9862</td><td>1452.3162</td><td>1449.81</td><td>1433.859290069692</td><td>1398.817771478836</td></tr>\n",
       "<tr><td>0.6974008397591751</td><td>3.0313324059183553</td><td>0.0005654685516346337</td><td>0.6938427075692752</td><td>0.007116264379799851</td><td>2069314</td><td>19</td><td>15.634704</td><td>740.4898</td><td>1363.4523</td><td>1421.7789</td><td>1444.5624</td><td>1436.828027677988</td><td>1399.3635374483924</td></tr>\n",
       "<tr><td>0.7045171041389751</td><td>3.0311331367203427</td><td>0.0005620183275999465</td><td>0.7009589719490752</td><td>0.007116264379799851</td><td>2069027</td><td>14</td><td>16.223316</td><td>750.80475</td><td>1362.173</td><td>1421.7778</td><td>1444.5603</td><td>1431.8095672432466</td><td>1395.3982788957583</td></tr>\n",
       "<tr><td>0.711633368518775</td><td>3.0307159627250444</td><td>0.0005605156095083012</td><td>0.7080752363288751</td><td>0.007116264379799851</td><td>2058664</td><td>10</td><td>15.801273</td><td>745.0099</td><td>1361.2183</td><td>1421.7767</td><td>1444.5613</td><td>1433.5670337524894</td><td>1397.3087712204942</td></tr>\n",
       "</table></div>"
      ],
      "text/plain": [
       "<FoldedLightCurve length=201>\n",
       "        time               flux        ...    centroid_row       centroid_col   \n",
       "                                       ...                                      \n",
       "     TimeDelta           float64       ...      float64            float64      \n",
       "------------------- ------------------ ... ------------------ ------------------\n",
       "-0.7116195074412001 3.0314425356636003 ... 1433.4469567813699 1404.7861340654729\n",
       "-0.7045032430614002  3.031256581842475 ...  1433.204007858749  1402.726119656331\n",
       "-0.6973869786816004   3.03116839611718 ... 1434.7536399482854 1403.1923438657925\n",
       "-0.6902707143018005   3.03157766409987 ... 1435.5465970561177 1407.6332603320732\n",
       "-0.6831544499220006  3.030722397227463 ... 1430.8816022822775 1404.8611170563809\n",
       "-0.6760381855422009 3.0311350488005626 ... 1435.5552294897527 1400.8714164399444\n",
       "-0.6689219211624009 3.0314953463075094 ... 1434.7024391629686  1404.113743549568\n",
       "-0.6618056567826012   3.03080424097766 ... 1433.2910596507168 1402.8182494636314\n",
       "-0.6546893924028012   3.03147785956473 ...   1434.88025595431 1404.2138004972528\n",
       "                ...                ... ...                ...                ...\n",
       " 0.6475869891005754 3.0317034644957905 ...  1433.299646952558  1404.565033834443\n",
       " 0.6547032534803754 3.0307780578976646 ... 1433.3269481281025  1395.963126815772\n",
       " 0.6618195178601753  3.030771004766594 ... 1436.9761915080692 1400.0906489697252\n",
       " 0.6689357822399753  3.030978399664183 ...  1434.728300503083 1402.9899292207947\n",
       " 0.6760520466197752 3.0315776443502886 ... 1435.2287870314885  1398.657202510487\n",
       " 0.6831683109995752 3.0305956354418853 ... 1435.4469907009664 1400.2971887601968\n",
       " 0.6902845753793752 3.0314653932615028 ...  1433.859290069692  1398.817771478836\n",
       " 0.6974008397591751 3.0313324059183553 ...  1436.828027677988 1399.3635374483924\n",
       " 0.7045171041389751 3.0311331367203427 ... 1431.8095672432466 1395.3982788957583\n",
       "  0.711633368518775 3.0307159627250444 ... 1433.5670337524894 1397.3087712204942"
      ]
     },
     "execution_count": 30,
     "metadata": {},
     "output_type": "execute_result"
    }
   ],
   "source": [
    "if not (len(lc_global) == global_bin_width_factor):\n",
    "    logger.info(f'{tess_id} lc_global incorrect dimension: {len(lc_global)}')\n",
    "    #return\n",
    "lc_global = (lc_global / np.abs(np.nanmin(lc_global.flux)) ) * 2.0 + 1\n",
    "lc_global"
   ]
  },
  {
   "cell_type": "code",
   "execution_count": 31,
   "metadata": {},
   "outputs": [
    {
     "name": "stdout",
     "output_type": "stream",
     "text": [
      "Creating local representation\n"
     ]
    },
    {
     "name": "stderr",
     "output_type": "stream",
     "text": [
      "WARNING: TimeDeltaMissingUnitWarning: Numerical value without unit or explicit format passed to TimeDelta, assuming days [astropy.time.core]\n"
     ]
    },
    {
     "data": {
      "text/plain": [
       "array([False, False, False, ..., False, False, False])"
      ]
     },
     "execution_count": 31,
     "metadata": {},
     "output_type": "execute_result"
    }
   ],
   "source": [
    "\n",
    "print(\"Creating local representation\")\n",
    "\n",
    "phase_mask = (lc_fold.phase > -4*fractional_duration) & (lc_fold.phase < 4.0*fractional_duration)\n",
    "phase_mask\n"
   ]
  },
  {
   "cell_type": "code",
   "execution_count": 32,
   "metadata": {},
   "outputs": [
    {
     "data": {
      "text/html": [
       "<div><i>FoldedLightCurve length=44780</i>\n",
       "<table id=\"table140236876581520\" class=\"table-striped table-bordered table-condensed\">\n",
       "<thead><tr><th>time</th><th>flux</th><th>flux_err</th><th>time_original</th><th>cadenceno</th><th>quality</th><th>sap_bkg_err</th><th>sap_bkg</th><th>sap_flux</th><th>sap_x</th><th>sap_y</th><th>centroid_row</th><th>centroid_col</th></tr></thead>\n",
       "<thead><tr><th></th><th></th><th></th><th></th><th></th><th></th><th></th><th></th><th></th><th></th><th></th><th></th><th></th></tr></thead>\n",
       "<thead><tr><th>TimeDelta</th><th>float64</th><th>float64</th><th>Time</th><th>int64</th><th>int32</th><th>float32</th><th>float32</th><th>float32</th><th>float32</th><th>float32</th><th>float64</th><th>float64</th></tr></thead>\n",
       "<tr><td>-0.1915339235346367</td><td>0.997689333185068</td><td>0.004265620452348926</td><td>1331.5405838889162</td><td>74938</td><td>0</td><td>1.5248067</td><td>406.3576</td><td>1229.448</td><td>--</td><td>--</td><td>1518.5334486043982</td><td>1849.6202509772875</td></tr>\n",
       "<tr><td>-0.19152899733569845</td><td>1.002310666814932</td><td>0.00371114815507846</td><td>1331.5405888151151</td><td>74938</td><td>0</td><td>--</td><td>--</td><td>--</td><td>--</td><td>--</td><td>1517.7966275582723</td><td>1849.8461785874945</td></tr>\n",
       "<tr><td>-0.1915218377504542</td><td>1.003069599393234</td><td>0.00978044926052971</td><td>2042.434058723566</td><td>3520692</td><td>0</td><td>5.2541466</td><td>778.3363</td><td>1438.6804</td><td>--</td><td>--</td><td>1413.769207265155</td><td>1238.8303300645393</td></tr>\n",
       "<tr><td>-0.19151298888401733</td><td>1.0055790887890146</td><td>0.010981454366280053</td><td>2059.5984972565097</td><td>3594842</td><td>0</td><td>6.4177012</td><td>1314.4968</td><td>1455.0475</td><td>--</td><td>--</td><td>1413.7628622389652</td><td>1238.830879411116</td></tr>\n",
       "<tr><td>-0.19150676834071528</td><td>1.0118808649544886</td><td>0.009554043057184864</td><td>2052.446657775354</td><td>3563946</td><td>0</td><td>5.063479</td><td>709.27374</td><td>1434.0446</td><td>--</td><td>--</td><td>1413.7320155037994</td><td>1238.81243542605</td></tr>\n",
       "<tr><td>-0.19150011937755632</td><td>1.0120348373352492</td><td>0.009781435094283322</td><td>2041.0037113015992</td><td>3514513</td><td>0</td><td>5.2413597</td><td>775.53033</td><td>1451.0309</td><td>--</td><td>--</td><td>1413.756750155503</td><td>1238.8235888659328</td></tr>\n",
       "<tr><td>-0.1914804033472837</td><td>0.975538145634521</td><td>0.009560458994086453</td><td>2039.5733618772897</td><td>3508334</td><td>0</td><td>5.1197524</td><td>728.004</td><td>1405.9664</td><td>--</td><td>--</td><td>1413.7771804460428</td><td>1238.8354024012658</td></tr>\n",
       "<tr><td>-0.19147317682906348</td><td>0.9968960370644032</td><td>0.0036984243965635854</td><td>1344.4139668986797</td><td>84207</td><td>0</td><td>--</td><td>--</td><td>--</td><td>--</td><td>--</td><td>1517.7841314229527</td><td>1849.8862598777719</td></tr>\n",
       "<tr><td>-0.19147313645312544</td><td>1.003103962935597</td><td>0.004243210540076147</td><td>1344.4139669390556</td><td>84207</td><td>0</td><td>1.5200578</td><td>401.47598</td><td>1215.4393</td><td>--</td><td>--</td><td>1518.514494048038</td><td>1849.639751624234</td></tr>\n",
       "<tr><td>...</td><td>...</td><td>...</td><td>...</td><td>...</td><td>...</td><td>...</td><td>...</td><td>...</td><td>...</td><td>...</td><td>...</td><td>...</td></tr>\n",
       "<tr><td>0.19141519097134893</td><td>0.9972651443148416</td><td>0.009585345583426708</td><td>2038.5258883312686</td><td>3503809</td><td>0</td><td>5.0732245</td><td>718.29065</td><td>1424.1488</td><td>--</td><td>--</td><td>1413.7547124974067</td><td>1238.8242244105338</td></tr>\n",
       "<tr><td>0.19142020893083983</td><td>0.9997380427959168</td><td>0.004702247155027984</td><td>2045.677739050927</td><td>589117</td><td>0</td><td>2.624212</td><td>1042.9072</td><td>1442.9773</td><td>--</td><td>--</td><td>1413.7717464945767</td><td>1238.8296710635607</td></tr>\n",
       "<tr><td>0.19143140383357612</td><td>0.9966614658312863</td><td>0.009463740145536475</td><td>2037.095535403791</td><td>3497630</td><td>0</td><td>4.95747</td><td>662.9974</td><td>1430.6086</td><td>--</td><td>--</td><td>1413.7874683962893</td><td>1238.8290560279565</td></tr>\n",
       "<tr><td>0.19144619209569597</td><td>1.0012658577471691</td><td>0.009419626487025014</td><td>2049.968872455111</td><td>3553242</td><td>0</td><td>4.9073</td><td>647.97003</td><td>1430.3263</td><td>--</td><td>--</td><td>1413.7564745398915</td><td>1238.8234850264503</td></tr>\n",
       "<tr><td>0.19144627556418417</td><td>1.0021970945663876</td><td>0.0043176919481114255</td><td>1329.0628258073355</td><td>73154</td><td>0</td><td>1.5655507</td><td>439.7453</td><td>1240.3721</td><td>--</td><td>--</td><td>1518.5327465197931</td><td>1849.6141718024014</td></tr>\n",
       "<tr><td>0.19144690014601068</td><td>0.9978029054336122</td><td>0.003772658158204419</td><td>1329.0628264319173</td><td>73154</td><td>0</td><td>--</td><td>--</td><td>--</td><td>--</td><td>--</td><td>1517.8050681900345</td><td>1849.841384844999</td></tr>\n",
       "<tr><td>0.19145687036867667</td><td>1.0193798424515053</td><td>0.010382898064502969</td><td>2057.120728835083</td><td>3584138</td><td>0</td><td>6.3554983</td><td>926.20154</td><td>1451.0521</td><td>--</td><td>--</td><td>1413.7236073673987</td><td>1238.8184536269268</td></tr>\n",
       "<tr><td>0.19150514025614224</td><td>0.9946823299959467</td><td>0.009910755426257353</td><td>2055.6904079646306</td><td>3577959</td><td>0</td><td>5.4210315</td><td>853.03595</td><td>1419.2324</td><td>--</td><td>--</td><td>1413.7414193108232</td><td>1238.824414470938</td></tr>\n",
       "<tr><td>0.1915090335394149</td><td>0.9752469292433453</td><td>0.01095919242351444</td><td>2047.1081970158752</td><td>3540884</td><td>0</td><td>6.428457</td><td>1324.8776</td><td>1423.3208</td><td>--</td><td>--</td><td>1413.7661262726258</td><td>1238.8382313534355</td></tr>\n",
       "<tr><td>0.19153595101512927</td><td>1.0043350397295607</td><td>0.010401360658506827</td><td>2045.6778547930112</td><td>3534705</td><td>0</td><td>5.8447175</td><td>1040.0073</td><td>1451.346</td><td>--</td><td>--</td><td>1413.7591671065716</td><td>1238.8190201748291</td></tr>\n",
       "</table></div>"
      ],
      "text/plain": [
       "<FoldedLightCurve length=44780>\n",
       "        time                flux        ...    centroid_col   \n",
       "                                        ...                   \n",
       "     TimeDelta            float64       ...      float64      \n",
       "-------------------- ------------------ ... ------------------\n",
       " -0.1915339235346367  0.997689333185068 ... 1849.6202509772875\n",
       "-0.19152899733569845  1.002310666814932 ... 1849.8461785874945\n",
       " -0.1915218377504542  1.003069599393234 ... 1238.8303300645393\n",
       "-0.19151298888401733 1.0055790887890146 ...  1238.830879411116\n",
       "-0.19150676834071528 1.0118808649544886 ...   1238.81243542605\n",
       "-0.19150011937755632 1.0120348373352492 ... 1238.8235888659328\n",
       " -0.1914804033472837  0.975538145634521 ... 1238.8354024012658\n",
       "-0.19147317682906348 0.9968960370644032 ... 1849.8862598777719\n",
       "-0.19147313645312544  1.003103962935597 ...  1849.639751624234\n",
       "                 ...                ... ...                ...\n",
       " 0.19141519097134893 0.9972651443148416 ... 1238.8242244105338\n",
       " 0.19142020893083983 0.9997380427959168 ... 1238.8296710635607\n",
       " 0.19143140383357612 0.9966614658312863 ... 1238.8290560279565\n",
       " 0.19144619209569597 1.0012658577471691 ... 1238.8234850264503\n",
       " 0.19144627556418417 1.0021970945663876 ... 1849.6141718024014\n",
       " 0.19144690014601068 0.9978029054336122 ...  1849.841384844999\n",
       " 0.19145687036867667 1.0193798424515053 ... 1238.8184536269268\n",
       " 0.19150514025614224 0.9946823299959467 ...  1238.824414470938\n",
       "  0.1915090335394149 0.9752469292433453 ... 1238.8382313534355\n",
       " 0.19153595101512927 1.0043350397295607 ... 1238.8190201748291"
      ]
     },
     "execution_count": 32,
     "metadata": {},
     "output_type": "execute_result"
    }
   ],
   "source": [
    "lc_zoom = lc_fold[phase_mask]\n",
    "lc_zoom\n",
    "\n"
   ]
  },
  {
   "cell_type": "code",
   "execution_count": 33,
   "metadata": {},
   "outputs": [
    {
     "data": {
      "text/html": [
       "<div><i>FoldedLightCurve length=61</i>\n",
       "<table id=\"table140236876606480\" class=\"table-striped table-bordered table-condensed\">\n",
       "<thead><tr><th>time</th><th>flux</th><th>flux_err</th><th>time_bin_start</th><th>time_bin_size</th><th>cadenceno</th><th>quality</th><th>sap_bkg_err</th><th>sap_bkg</th><th>sap_flux</th><th>sap_x</th><th>sap_y</th><th>centroid_row</th><th>centroid_col</th></tr></thead>\n",
       "<thead><tr><th></th><th></th><th></th><th></th><th>d</th><th></th><th></th><th></th><th></th><th></th><th></th><th></th><th></th><th></th></tr></thead>\n",
       "<thead><tr><th>TimeDelta</th><th>float64</th><th>float64</th><th>TimeDelta</th><th>float64</th><th>int64</th><th>int32</th><th>float32</th><th>float32</th><th>float32</th><th>float32</th><th>float32</th><th>float64</th><th>float64</th></tr></thead>\n",
       "<tr><td>-0.18839385591314708</td><td>0.00010629233581083142</td><td>0.0002871506150923601</td><td>-0.1915339235346367</td><td>0.006280135242979237</td><td>2105034</td><td>12</td><td>15.115054</td><td>662.90546</td><td>1363.1324</td><td>1442.1395</td><td>1448.0624</td><td>1430.8702522237459</td><td>1393.6117419238399</td></tr>\n",
       "<tr><td>-0.18211372067016784</td><td>0.00018433225288227995</td><td>0.0002841657320043038</td><td>-0.18525378829165745</td><td>0.006280135242979237</td><td>2066715</td><td>13</td><td>13.947191</td><td>797.16614</td><td>1366.3137</td><td>1454.1147</td><td>1450.1226</td><td>1431.0813371034417</td><td>1394.6331935907024</td></tr>\n",
       "<tr><td>-0.1758335854271886</td><td>9.71131206444209e-05</td><td>0.0002855808040920419</td><td>-0.1789736530486782</td><td>0.006280135242979237</td><td>2097547</td><td>9</td><td>15.818757</td><td>677.93744</td><td>1362.1885</td><td>1431.4188</td><td>1446.2148</td><td>1436.664079569808</td><td>1400.0838173319125</td></tr>\n",
       "<tr><td>-0.16955345018420936</td><td>0.00027426320064849463</td><td>0.00028842675580461875</td><td>-0.17269351780569897</td><td>0.006280135242979237</td><td>2105469</td><td>11</td><td>12.752973</td><td>773.4305</td><td>1370.4257</td><td>1442.1367</td><td>1448.0579</td><td>1432.3543222115802</td><td>1393.380081391235</td></tr>\n",
       "<tr><td>-0.16327331494123015</td><td>-0.00017480363216926254</td><td>0.0002882675171109812</td><td>-0.16641338256271976</td><td>0.006280135242979237</td><td>2073796</td><td>2</td><td>15.885529</td><td>726.6768</td><td>1360.5597</td><td>1408.2018</td><td>1442.2261</td><td>1433.3581825198323</td><td>1399.9380152603358</td></tr>\n",
       "<tr><td>-0.15699317969825088</td><td>-8.540358712638696e-05</td><td>0.00028693875132631365</td><td>-0.1601332473197405</td><td>0.006280135242979237</td><td>2097171</td><td>12</td><td>13.586003</td><td>796.4646</td><td>1361.1002</td><td>1399.2751</td><td>1440.7032</td><td>1434.5072485220385</td><td>1396.6409142244947</td></tr>\n",
       "<tr><td>-0.15071304445527167</td><td>-0.00014038798909499217</td><td>0.00028859869327565427</td><td>-0.15385311207676128</td><td>0.006280135242979237</td><td>2105480</td><td>9</td><td>14.31322</td><td>797.85266</td><td>1360.9425</td><td>1399.2771</td><td>1440.701</td><td>1436.2662459489702</td><td>1398.115691386593</td></tr>\n",
       "<tr><td>-0.1444329092122924</td><td>-2.989964192434691e-05</td><td>0.000278104091020339</td><td>-0.147572976833782</td><td>0.006280135242979237</td><td>2031021</td><td>18</td><td>16.674221</td><td>725.32477</td><td>1357.7335</td><td>1413.0531</td><td>1443.0638</td><td>1431.3135089625084</td><td>1394.5523770149055</td></tr>\n",
       "<tr><td>-0.1381527739693132</td><td>0.0</td><td>0.0002806160421304892</td><td>-0.1412928415908028</td><td>0.006280135242979237</td><td>2040863</td><td>17</td><td>16.103285</td><td>715.00055</td><td>1356.1246</td><td>1413.0526</td><td>1443.0667</td><td>1433.5987716245156</td><td>1399.6269488076903</td></tr>\n",
       "<tr><td>...</td><td>...</td><td>...</td><td>...</td><td>...</td><td>...</td><td>...</td><td>...</td><td>...</td><td>...</td><td>...</td><td>...</td><td>...</td><td>...</td></tr>\n",
       "<tr><td>0.1318930414787938</td><td>-8.615813103640679e-05</td><td>0.0002894217600744137</td><td>0.1287529738573042</td><td>0.006280135242979237</td><td>2103943</td><td>16</td><td>15.870618</td><td>918.6273</td><td>1358.872</td><td>1421.7759</td><td>1444.5709</td><td>1432.5477083923818</td><td>1394.6330864040074</td></tr>\n",
       "<tr><td>0.138173176721773</td><td>0.00024930209699114414</td><td>0.00029305826135367694</td><td>0.1350331091002834</td><td>0.006280135242979237</td><td>2115684</td><td>22</td><td>13.153496</td><td>854.193</td><td>1366.0729</td><td>1454.111</td><td>1450.128</td><td>1432.2096497763187</td><td>1393.636326066119</td></tr>\n",
       "<tr><td>0.14445331196475222</td><td>-8.169683391090476e-05</td><td>0.00028882517969707275</td><td>0.14131324434326262</td><td>0.006280135242979237</td><td>2099732</td><td>11</td><td>16.40393</td><td>833.31006</td><td>1367.1018</td><td>1454.1162</td><td>1450.1201</td><td>1433.7394774624815</td><td>1392.3101825577007</td></tr>\n",
       "<tr><td>0.15073344720773144</td><td>0.00021415998578322437</td><td>0.00028875146317344053</td><td>0.14759337958624183</td><td>0.006280135242979237</td><td>2096061</td><td>11</td><td>13.680945</td><td>809.5874</td><td>1361.9482</td><td>1431.4213</td><td>1446.2197</td><td>1430.3945373584706</td><td>1391.129449925435</td></tr>\n",
       "<tr><td>0.15701358245071065</td><td>-0.0001378302770170814</td><td>0.0002908693293894386</td><td>0.15387351482922104</td><td>0.006280135242979237</td><td>2111269</td><td>14</td><td>13.6640835</td><td>793.42737</td><td>1368.4803</td><td>1429.4072</td><td>1445.873</td><td>1431.6012086342048</td><td>1389.2163961096066</td></tr>\n",
       "<tr><td>0.16329371769368986</td><td>0.0001433562671684374</td><td>0.00029617045323691583</td><td>0.16015365007220025</td><td>0.006280135242979237</td><td>2146405</td><td>374</td><td>12.765881</td><td>837.1837</td><td>1371.9294</td><td>1401.4136</td><td>1441.0646</td><td>1434.993592996705</td><td>1391.2320283541155</td></tr>\n",
       "<tr><td>0.16957385293666907</td><td>-0.00010753338649260868</td><td>0.00028959747755397325</td><td>0.16643378531517947</td><td>0.006280135242979237</td><td>2090704</td><td>11</td><td>15.192821</td><td>734.6292</td><td>1361.0548</td><td>1399.2753</td><td>1440.6984</td><td>1430.9635067523457</td><td>1394.4536091203872</td></tr>\n",
       "<tr><td>0.17585398817964829</td><td>0.00018862825218035617</td><td>0.00029362278276468293</td><td>0.17271392055815868</td><td>0.006280135242979237</td><td>2123486</td><td>21</td><td>13.974318</td><td>740.0447</td><td>1363.424</td><td>1399.2764</td><td>1440.6969</td><td>1432.4465289256436</td><td>1385.5475443271284</td></tr>\n",
       "<tr><td>0.1821341234226275</td><td>0.0001812316870963837</td><td>0.00029133096042554965</td><td>0.1789940558011379</td><td>0.006280135242979237</td><td>2115702</td><td>18</td><td>14.265105</td><td>742.39886</td><td>1364.2831</td><td>1399.2751</td><td>1440.6976</td><td>1432.9571275553242</td><td>1388.127955577318</td></tr>\n",
       "<tr><td>0.1884142586656067</td><td>0.0002543274323101308</td><td>0.000286465977016677</td><td>0.1852741910441171</td><td>0.006280135242979237</td><td>2071632</td><td>7</td><td>15.053768</td><td>734.70233</td><td>1360.9369</td><td>1421.7784</td><td>1444.5613</td><td>1430.2070404838048</td><td>1389.8873662439044</td></tr>\n",
       "</table></div>"
      ],
      "text/plain": [
       "<FoldedLightCurve length=61>\n",
       "        time                   flux          ...    centroid_col   \n",
       "                                             ...                   \n",
       "     TimeDelta               float64         ...      float64      \n",
       "-------------------- ----------------------- ... ------------------\n",
       "-0.18839385591314708  0.00010629233581083142 ... 1393.6117419238399\n",
       "-0.18211372067016784  0.00018433225288227995 ... 1394.6331935907024\n",
       " -0.1758335854271886    9.71131206444209e-05 ... 1400.0838173319125\n",
       "-0.16955345018420936  0.00027426320064849463 ...  1393.380081391235\n",
       "-0.16327331494123015 -0.00017480363216926254 ... 1399.9380152603358\n",
       "-0.15699317969825088  -8.540358712638696e-05 ... 1396.6409142244947\n",
       "-0.15071304445527167 -0.00014038798909499217 ...  1398.115691386593\n",
       " -0.1444329092122924  -2.989964192434691e-05 ... 1394.5523770149055\n",
       " -0.1381527739693132                     0.0 ... 1399.6269488076903\n",
       "                 ...                     ... ...                ...\n",
       "  0.1318930414787938  -8.615813103640679e-05 ... 1394.6330864040074\n",
       "   0.138173176721773  0.00024930209699114414 ...  1393.636326066119\n",
       " 0.14445331196475222  -8.169683391090476e-05 ... 1392.3101825577007\n",
       " 0.15073344720773144  0.00021415998578322437 ...  1391.129449925435\n",
       " 0.15701358245071065  -0.0001378302770170814 ... 1389.2163961096066\n",
       " 0.16329371769368986   0.0001433562671684374 ... 1391.2320283541155\n",
       " 0.16957385293666907 -0.00010753338649260868 ... 1394.4536091203872\n",
       " 0.17585398817964829  0.00018862825218035617 ... 1385.5475443271284\n",
       "  0.1821341234226275   0.0001812316870963837 ...  1388.127955577318\n",
       "  0.1884142586656067   0.0002543274323101308 ... 1389.8873662439044"
      ]
     },
     "execution_count": 33,
     "metadata": {},
     "output_type": "execute_result"
    }
   ],
   "source": [
    "# we use 8x fractional duration here since we zoomed in on 4x the fractional duration on both sides\n",
    "lc_local = lc_zoom.bin(time_bin_size=8*fractional_duration/local_bin_width_factor).normalize() - 1\n",
    "lc_local\n"
   ]
  },
  {
   "cell_type": "code",
   "execution_count": 34,
   "metadata": {},
   "outputs": [
    {
     "data": {
      "text/html": [
       "<div><i>FoldedLightCurve length=61</i>\n",
       "<table id=\"table140237733934320\" class=\"table-striped table-bordered table-condensed\">\n",
       "<thead><tr><th>time</th><th>flux</th><th>flux_err</th><th>time_bin_start</th><th>time_bin_size</th><th>cadenceno</th><th>quality</th><th>sap_bkg_err</th><th>sap_bkg</th><th>sap_flux</th><th>sap_x</th><th>sap_y</th><th>centroid_row</th><th>centroid_col</th></tr></thead>\n",
       "<thead><tr><th></th><th></th><th></th><th></th><th>d</th><th></th><th></th><th></th><th></th><th></th><th></th><th></th><th></th><th></th></tr></thead>\n",
       "<thead><tr><th>TimeDelta</th><th>float64</th><th>float64</th><th>TimeDelta</th><th>float64</th><th>int64</th><th>int32</th><th>float32</th><th>float32</th><th>float32</th><th>float32</th><th>float32</th><th>float64</th><th>float64</th></tr></thead>\n",
       "<tr><td>-0.18839385591314708</td><td>1.014079745535556</td><td>0.038036680255800474</td><td>-0.1915339235346367</td><td>0.006280135242979237</td><td>2105034</td><td>12</td><td>15.115054</td><td>662.90546</td><td>1363.1324</td><td>1442.1395</td><td>1448.0624</td><td>1430.8702522237459</td><td>1393.6117419238399</td></tr>\n",
       "<tr><td>-0.18211372067016784</td><td>1.0244171058503897</td><td>0.037641295263904063</td><td>-0.18525378829165745</td><td>0.006280135242979237</td><td>2066715</td><td>13</td><td>13.947191</td><td>797.16614</td><td>1366.3137</td><td>1454.1147</td><td>1450.1226</td><td>1431.0813371034417</td><td>1394.6331935907024</td></tr>\n",
       "<tr><td>-0.1758335854271886</td><td>1.0128638440053723</td><td>0.037828739210429785</td><td>-0.1789736530486782</td><td>0.006280135242979237</td><td>2097547</td><td>9</td><td>15.818757</td><td>677.93744</td><td>1362.1885</td><td>1431.4188</td><td>1446.2148</td><td>1436.664079569808</td><td>1400.0838173319125</td></tr>\n",
       "<tr><td>-0.16955345018420936</td><td>1.0363295814833753</td><td>0.03820572100891877</td><td>-0.17269351780569897</td><td>0.006280135242979237</td><td>2105469</td><td>11</td><td>12.752973</td><td>773.4305</td><td>1370.4257</td><td>1442.1367</td><td>1448.0579</td><td>1432.3543222115802</td><td>1393.380081391235</td></tr>\n",
       "<tr><td>-0.16327331494123015</td><td>0.9768450788021603</td><td>0.03818462785795235</td><td>-0.16641338256271976</td><td>0.006280135242979237</td><td>2073796</td><td>2</td><td>15.885529</td><td>726.6768</td><td>1360.5597</td><td>1408.2018</td><td>1442.2261</td><td>1433.3581825198323</td><td>1399.9380152603358</td></tr>\n",
       "<tr><td>-0.15699317969825088</td><td>0.9886872297481238</td><td>0.038008616257663795</td><td>-0.1601332473197405</td><td>0.006280135242979237</td><td>2097171</td><td>12</td><td>13.586003</td><td>796.4646</td><td>1361.1002</td><td>1399.2751</td><td>1440.7032</td><td>1434.5072485220385</td><td>1396.6409142244947</td></tr>\n",
       "<tr><td>-0.15071304445527167</td><td>0.9814038599525776</td><td>0.03822849627132823</td><td>-0.15385311207676128</td><td>0.006280135242979237</td><td>2105480</td><td>9</td><td>14.31322</td><td>797.85266</td><td>1360.9425</td><td>1399.2771</td><td>1440.701</td><td>1436.2662459489702</td><td>1398.115691386593</td></tr>\n",
       "<tr><td>-0.1444329092122924</td><td>0.9960394195245812</td><td>0.03683835531596641</td><td>-0.147572976833782</td><td>0.006280135242979237</td><td>2031021</td><td>18</td><td>16.674221</td><td>725.32477</td><td>1357.7335</td><td>1413.0531</td><td>1443.0638</td><td>1431.3135089625084</td><td>1394.5523770149055</td></tr>\n",
       "<tr><td>-0.1381527739693132</td><td>1.0</td><td>0.0371710945690732</td><td>-0.1412928415908028</td><td>0.006280135242979237</td><td>2040863</td><td>17</td><td>16.103285</td><td>715.00055</td><td>1356.1246</td><td>1413.0526</td><td>1443.0667</td><td>1433.5987716245156</td><td>1399.6269488076903</td></tr>\n",
       "<tr><td>...</td><td>...</td><td>...</td><td>...</td><td>...</td><td>...</td><td>...</td><td>...</td><td>...</td><td>...</td><td>...</td><td>...</td><td>...</td><td>...</td></tr>\n",
       "<tr><td>0.1318930414787938</td><td>0.9885872809967163</td><td>0.038337521733953515</td><td>0.1287529738573042</td><td>0.006280135242979237</td><td>2103943</td><td>16</td><td>15.870618</td><td>918.6273</td><td>1358.872</td><td>1421.7759</td><td>1444.5709</td><td>1432.5477083923818</td><td>1394.6330864040074</td></tr>\n",
       "<tr><td>0.138173176721773</td><td>1.0330231719939122</td><td>0.038819221682131075</td><td>0.1350331091002834</td><td>0.006280135242979237</td><td>2115684</td><td>22</td><td>13.153496</td><td>854.193</td><td>1366.0729</td><td>1454.111</td><td>1450.128</td><td>1432.2096497763187</td><td>1393.636326066119</td></tr>\n",
       "<tr><td>0.14445331196475222</td><td>0.9891782354414221</td><td>0.038258497222539864</td><td>0.14131324434326262</td><td>0.006280135242979237</td><td>2099732</td><td>11</td><td>16.40393</td><td>833.31006</td><td>1367.1018</td><td>1454.1162</td><td>1450.1201</td><td>1433.7394774624815</td><td>1392.3101825577007</td></tr>\n",
       "<tr><td>0.15073344720773144</td><td>1.0283681610788233</td><td>0.03824873254960658</td><td>0.14759337958624183</td><td>0.006280135242979237</td><td>2096061</td><td>11</td><td>13.680945</td><td>809.5874</td><td>1361.9482</td><td>1431.4213</td><td>1446.2197</td><td>1430.3945373584706</td><td>1391.129449925435</td></tr>\n",
       "<tr><td>0.15701358245071065</td><td>0.9817426608165861</td><td>0.0385292703435325</td><td>0.15387351482922104</td><td>0.006280135242979237</td><td>2111269</td><td>14</td><td>13.6640835</td><td>793.42737</td><td>1368.4803</td><td>1429.4072</td><td>1445.873</td><td>1431.6012086342048</td><td>1389.2163961096066</td></tr>\n",
       "<tr><td>0.16329371769368986</td><td>1.0189893254980391</td><td>0.03923147031172004</td><td>0.16015365007220025</td><td>0.006280135242979237</td><td>2146405</td><td>374</td><td>12.765881</td><td>837.1837</td><td>1371.9294</td><td>1401.4136</td><td>1441.0646</td><td>1434.993592996705</td><td>1391.2320283541155</td></tr>\n",
       "<tr><td>0.16957385293666907</td><td>0.9857558618234992</td><td>0.038360797705635524</td><td>0.16643378531517947</td><td>0.006280135242979237</td><td>2090704</td><td>11</td><td>15.192821</td><td>734.6292</td><td>1361.0548</td><td>1399.2753</td><td>1440.6984</td><td>1430.9635067523457</td><td>1394.4536091203872</td></tr>\n",
       "<tr><td>0.17585398817964829</td><td>1.0249861645362903</td><td>0.03889399958362044</td><td>0.17271392055815868</td><td>0.006280135242979237</td><td>2123486</td><td>21</td><td>13.974318</td><td>740.0447</td><td>1363.424</td><td>1399.2764</td><td>1440.6969</td><td>1432.4465289256436</td><td>1385.5475443271284</td></tr>\n",
       "<tr><td>0.1821341234226275</td><td>1.024006397242392</td><td>0.038590419131638215</td><td>0.1789940558011379</td><td>0.006280135242979237</td><td>2115702</td><td>18</td><td>14.265105</td><td>742.39886</td><td>1364.2831</td><td>1399.2751</td><td>1440.6976</td><td>1432.9571275553242</td><td>1388.127955577318</td></tr>\n",
       "<tr><td>0.1884142586656067</td><td>1.0336888403319202</td><td>0.037945991404002864</td><td>0.1852741910441171</td><td>0.006280135242979237</td><td>2071632</td><td>7</td><td>15.053768</td><td>734.70233</td><td>1360.9369</td><td>1421.7784</td><td>1444.5613</td><td>1430.2070404838048</td><td>1389.8873662439044</td></tr>\n",
       "</table></div>"
      ],
      "text/plain": [
       "<FoldedLightCurve length=61>\n",
       "        time                flux        ...    centroid_col   \n",
       "                                        ...                   \n",
       "     TimeDelta            float64       ...      float64      \n",
       "-------------------- ------------------ ... ------------------\n",
       "-0.18839385591314708  1.014079745535556 ... 1393.6117419238399\n",
       "-0.18211372067016784 1.0244171058503897 ... 1394.6331935907024\n",
       " -0.1758335854271886 1.0128638440053723 ... 1400.0838173319125\n",
       "-0.16955345018420936 1.0363295814833753 ...  1393.380081391235\n",
       "-0.16327331494123015 0.9768450788021603 ... 1399.9380152603358\n",
       "-0.15699317969825088 0.9886872297481238 ... 1396.6409142244947\n",
       "-0.15071304445527167 0.9814038599525776 ...  1398.115691386593\n",
       " -0.1444329092122924 0.9960394195245812 ... 1394.5523770149055\n",
       " -0.1381527739693132                1.0 ... 1399.6269488076903\n",
       "                 ...                ... ...                ...\n",
       "  0.1318930414787938 0.9885872809967163 ... 1394.6330864040074\n",
       "   0.138173176721773 1.0330231719939122 ...  1393.636326066119\n",
       " 0.14445331196475222 0.9891782354414221 ... 1392.3101825577007\n",
       " 0.15073344720773144 1.0283681610788233 ...  1391.129449925435\n",
       " 0.15701358245071065 0.9817426608165861 ... 1389.2163961096066\n",
       " 0.16329371769368986 1.0189893254980391 ... 1391.2320283541155\n",
       " 0.16957385293666907 0.9857558618234992 ... 1394.4536091203872\n",
       " 0.17585398817964829 1.0249861645362903 ... 1385.5475443271284\n",
       "  0.1821341234226275  1.024006397242392 ...  1388.127955577318\n",
       "  0.1884142586656067 1.0336888403319202 ... 1389.8873662439044"
      ]
     },
     "execution_count": 34,
     "metadata": {},
     "output_type": "execute_result"
    }
   ],
   "source": [
    "if not (len(lc_local) == local_bin_width_factor):\n",
    "    logger.info(f'{tess_id} lc_local incorrect dimension: {len(lc_local)}')\n",
    "    #return\n",
    "lc_local = (lc_local / np.abs(np.nanmin(lc_local.flux)) ) * 2.0 + 1\n",
    "lc_local"
   ]
  },
  {
   "cell_type": "code",
   "execution_count": 35,
   "metadata": {},
   "outputs": [
    {
     "name": "stdout",
     "output_type": "stream",
     "text": [
      "Preprocessing centroid\n"
     ]
    },
    {
     "data": {
      "text/plain": [
       "array([ 8.12177700e-01,  1.29161795e+00,  3.83845386e-01,  8.11927331e-01,\n",
       "       -5.40069468e-01, -8.93715315e-01, -8.93725724e-01, -3.47238872e-01,\n",
       "       -3.47158447e-01,  4.42424636e-01,  8.12345217e-01,  1.83234330e+00,\n",
       "        1.21946424e+00,  3.03821453e-01, -3.47600093e-01, -1.88154932e+00,\n",
       "       -7.00475424e-05, -1.21201560e+00, -1.31580158e-04,  8.12052644e-01,\n",
       "        3.84381305e-01,  1.83231849e+00,  2.17334988e+00,  8.11960698e-01,\n",
       "       -8.09127158e-01, -1.43161521e-01, -1.21191381e+00, -3.47364954e-01,\n",
       "       -1.21205914e+00, -1.21211610e+00,  3.83906768e-01,  2.44659804e+00,\n",
       "        1.29138450e+00,  3.84141490e-01, -8.08932526e-01,  8.11693731e-01,\n",
       "       -1.88140831e+00, -8.93591758e-01, -1.88133768e+00,  0.00000000e+00,\n",
       "        4.47831037e-05,  3.84364708e-01,  8.12483583e-01,  8.12361866e-01,\n",
       "       -1.43089456e-01,  3.03919028e-01, -1.21193062e+00, -8.93570358e-01,\n",
       "       -1.56654051e+00,  1.24789262e-05,  4.47831037e-05, -7.96085562e-07,\n",
       "        1.29167591e+00,  1.29158477e+00,  3.84096062e-01,  3.03747143e-01,\n",
       "       -8.09179996e-01, -8.93880454e-01, -8.93894243e-01, -8.93909951e-01,\n",
       "       -2.46012588e-04])"
      ]
     },
     "execution_count": 35,
     "metadata": {},
     "output_type": "execute_result"
    }
   ],
   "source": [
    "\n",
    "print(\"Preprocessing centroid\")\n",
    "local_cen, global_cen = preprocess_centroid(lc_local, lc_global)\n",
    "local_cen"
   ]
  },
  {
   "cell_type": "code",
   "execution_count": 36,
   "metadata": {},
   "outputs": [
    {
     "data": {
      "text/plain": [
       "array([ 8.11156512e-01, -6.35790944e-01, -6.35767134e-01,  8.11102834e-01,\n",
       "        2.84690091e+00, -1.63753653e+00, -6.35820228e-01,  8.10835309e-01,\n",
       "       -4.62188040e-05, -1.63764592e+00,  1.93242439e-01,  8.10768149e-01,\n",
       "       -1.63755421e+00,  1.93883285e-01,  1.94006442e-01, -1.21266765e+00,\n",
       "       -3.71237369e-01,  8.10583502e-01, -1.21313461e+00,  8.11074572e-01,\n",
       "        1.93504913e-01, -1.21314911e+00,  8.10790103e-01,  1.93489518e-01,\n",
       "       -6.35758126e-01,  1.93550000e-01,  1.93543180e-01, -6.35696828e-01,\n",
       "        1.93641709e-01,  8.11074716e-01,  8.11097680e-01,  8.11097175e-01,\n",
       "        1.93535044e-01,  8.10905065e-01,  8.11127529e-01,  1.93642038e-01,\n",
       "        8.11143319e-01,  1.93625766e-01, -1.21316184e+00,  1.93688441e-01,\n",
       "        1.94042954e-01, -3.71027713e-01, -3.71078396e-01,  1.93581118e-01,\n",
       "       -3.71028001e-01,  1.94057471e-01, -3.71055397e-01, -1.73919594e+00,\n",
       "       -1.73924840e+00,  1.93580350e-01, -2.22065382e+00, -2.22066134e+00,\n",
       "       -8.90162952e-01, -2.22070019e+00, -2.22073024e+00, -8.90038033e-01,\n",
       "       -3.66069214e+00, -6.35688784e-01, -3.70892672e-01, -1.73872028e+00,\n",
       "       -3.22461584e+00, -3.70946529e-01, -1.21243741e+00, -3.22463893e+00,\n",
       "        1.94204158e-01, -1.21263865e+00, -1.73877296e+00,  1.94158413e-01,\n",
       "        1.94020849e-01, -6.35247154e-01, -1.21300059e+00,  1.93565065e-01,\n",
       "        3.32693402e-04,  1.93624780e-01,  8.11135568e-01, -6.35814111e-01,\n",
       "        2.23513457e+00,  8.10974101e-01,  1.48852521e+00,  8.11509512e-01,\n",
       "       -1.21268686e+00,  8.11188381e-01,  1.94138412e-01, -6.35441342e-01,\n",
       "        8.11395775e-01,  8.11463368e-01, -1.63723455e+00,  8.11380418e-01,\n",
       "        3.39302808e-04, -6.35906139e-01,  8.11173528e-01, -6.35680901e-01,\n",
       "        3.31964227e-04,  8.11219239e-01, -6.35635048e-01,  2.71068161e-04,\n",
       "        8.11357815e-01, -1.21313638e+00, -1.21332372e+00, -2.22059242e+00,\n",
       "        7.03967413e-01,  7.03959889e-01,  1.01332023e-05,  5.70519024e-04,\n",
       "       -6.35688463e-01,  4.50793471e-04,  5.40557194e-04, -1.63686774e+00,\n",
       "        4.96647809e-04,  1.48875527e+00,  5.48625014e-04, -1.63697579e+00,\n",
       "        1.48879347e+00,  5.09622993e-04, -1.63701433e+00,  1.48876277e+00,\n",
       "        7.04682845e-01,  5.26731099e-04,  5.33826460e-04,  1.48871666e+00,\n",
       "       -1.21256302e+00, -6.35481079e-01,  8.11326884e-01, -6.35481240e-01,\n",
       "        3.12985219e-05,  8.11126591e-01, -6.35737047e-01, -6.35984328e-01,\n",
       "       -4.45178749e-05,  1.51632912e-05, -1.84267759e-04, -9.03722151e-05,\n",
       "       -6.35975642e-01, -6.35967437e-01, -6.35973233e-01, -6.35929307e-01,\n",
       "       -6.35967759e-01, -2.22081830e+00,  3.02050972e-05,  3.05695604e-05,\n",
       "       -2.22072661e+00,  7.04490720e-01, -7.70313480e-06, -6.35998809e-01,\n",
       "       -6.35947161e-01,  0.00000000e+00,  7.04430524e-01, -3.08125372e-05,\n",
       "       -7.58164509e-06, -3.66932273e-05,  1.48824173e+00, -6.36193478e-01,\n",
       "        8.79660093e-06,  2.23493579e+00, -8.50395977e-07, -7.58164509e-06,\n",
       "        7.04522077e-01, -9.88260266e-01, -6.11391208e-05,  1.55277622e-05,\n",
       "        3.95291012e-04, -2.22030981e+00,  3.08125424e-05,  4.48848516e-04,\n",
       "       -2.22025671e+00,  4.55336246e-04,  1.48872366e+00, -3.87586411e-05,\n",
       "       -1.52847802e-05,  7.04491821e-01, -6.35985612e-01, -6.35952153e-01,\n",
       "       -6.36035173e-01,  2.08713827e-04, -6.35998649e-01,  1.79724071e-04,\n",
       "        2.24120122e-04, -2.37168259e-05, -6.73118073e-06,  2.25019644e-05,\n",
       "        7.04505691e-01, -5.24640210e-05, -5.41649046e-05, -9.19516582e-05,\n",
       "        1.09666548e-04,  7.04505534e-01,  1.16033068e-04,  8.18910689e-06,\n",
       "       -1.57707286e-05, -3.85156708e-05, -6.78703012e-05,  1.48817280e+00,\n",
       "       -6.36008619e-01, -2.23804534e-05,  1.48816527e+00, -2.37168259e-05,\n",
       "       -6.36030342e-01,  2.23498168e+00,  1.45509140e-04, -5.36789638e-05,\n",
       "       -6.02886608e-05])"
      ]
     },
     "execution_count": 36,
     "metadata": {},
     "output_type": "execute_result"
    }
   ],
   "source": [
    "global_cen"
   ]
  }
 ],
 "metadata": {
  "kernelspec": {
   "display_name": "spacelab_env",
   "language": "python",
   "name": "python3"
  },
  "language_info": {
   "codemirror_mode": {
    "name": "ipython",
    "version": 3
   },
   "file_extension": ".py",
   "mimetype": "text/x-python",
   "name": "python",
   "nbconvert_exporter": "python",
   "pygments_lexer": "ipython3",
   "version": "3.8.1"
  },
  "orig_nbformat": 4
 },
 "nbformat": 4,
 "nbformat_minor": 2
}
